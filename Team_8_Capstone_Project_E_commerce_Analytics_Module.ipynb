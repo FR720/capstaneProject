{
 "cells": [
  {
   "cell_type": "markdown",
   "metadata": {
    "id": "Cyhl_w6pfxIL"
   },
   "source": [
    "# **Capstone Project: E-commerce Sales Analysis**: 🎓📊\n",
    "\n",
    "<h1 style=\"font-size: 50px; font-family: Arial, sans-serif; color: #4CAF50;\">\n",
    "  Team Information 👥\n",
    "\n",
    "</h1>\n",
    "\n",
    "---\n"
   ]
  },
  {
   "cell_type": "markdown",
   "metadata": {
    "id": "J9L1SypLkzJh"
   },
   "source": [
    "**Team 8** - Sprints Bootcamp\n",
    "\n",
    "**Team Members:**\n",
    "  ```\n",
    "Remas\n",
    "Menna Magdy Mohamed\n",
    "Ibrahim Abdel Basir Gomaa\n",
    "Fady Raouf\n",
    "Mohamed Alaa Farrag\n",
    "```\n",
    "\n",
    "\n"
   ]
  },
  {
   "cell_type": "markdown",
   "metadata": {
    "id": "0jHJa-BQtq8X"
   },
   "source": [
    "# **Setting Up the Environment** 🛠️\n",
    "\n",
    "---\n",
    "\n"
   ]
  },
  {
   "cell_type": "code",
   "execution_count": 1,
   "metadata": {
    "id": "a5P4hFB2ilC5"
   },
   "outputs": [
    {
     "name": "stdout",
     "output_type": "stream",
     "text": [
      "Defaulting to user installation because normal site-packages is not writeable\n",
      "Requirement already satisfied: pandas in c:\\users\\fady\\appdata\\roaming\\python\\python312\\site-packages (2.2.3)\n",
      "Requirement already satisfied: numpy in c:\\users\\fady\\appdata\\roaming\\python\\python312\\site-packages (1.26.4)\n",
      "Requirement already satisfied: matplotlib in c:\\users\\fady\\appdata\\roaming\\python\\python312\\site-packages (3.10.0)\n",
      "Requirement already satisfied: seaborn in c:\\users\\fady\\appdata\\roaming\\python\\python312\\site-packages (0.13.2)\n",
      "Requirement already satisfied: python-dateutil>=2.8.2 in c:\\users\\fady\\appdata\\roaming\\python\\python312\\site-packages (from pandas) (2.9.0.post0)\n",
      "Requirement already satisfied: pytz>=2020.1 in c:\\users\\fady\\appdata\\roaming\\python\\python312\\site-packages (from pandas) (2024.2)\n",
      "Requirement already satisfied: tzdata>=2022.7 in c:\\users\\fady\\appdata\\roaming\\python\\python312\\site-packages (from pandas) (2024.2)\n",
      "Requirement already satisfied: contourpy>=1.0.1 in c:\\users\\fady\\appdata\\roaming\\python\\python312\\site-packages (from matplotlib) (1.3.1)\n",
      "Requirement already satisfied: cycler>=0.10 in c:\\users\\fady\\appdata\\roaming\\python\\python312\\site-packages (from matplotlib) (0.12.1)\n",
      "Requirement already satisfied: fonttools>=4.22.0 in c:\\users\\fady\\appdata\\roaming\\python\\python312\\site-packages (from matplotlib) (4.55.3)\n",
      "Requirement already satisfied: kiwisolver>=1.3.1 in c:\\users\\fady\\appdata\\roaming\\python\\python312\\site-packages (from matplotlib) (1.4.8)\n",
      "Requirement already satisfied: packaging>=20.0 in c:\\users\\fady\\appdata\\roaming\\python\\python312\\site-packages (from matplotlib) (24.2)\n",
      "Requirement already satisfied: pillow>=8 in c:\\users\\fady\\appdata\\roaming\\python\\python312\\site-packages (from matplotlib) (11.0.0)\n",
      "Requirement already satisfied: pyparsing>=2.3.1 in c:\\users\\fady\\appdata\\roaming\\python\\python312\\site-packages (from matplotlib) (3.2.0)\n",
      "Requirement already satisfied: six>=1.5 in c:\\users\\fady\\appdata\\roaming\\python\\python312\\site-packages (from python-dateutil>=2.8.2->pandas) (1.17.0)\n"
     ]
    }
   ],
   "source": [
    "!pip install pandas numpy matplotlib seaborn\n"
   ]
  },
  {
   "cell_type": "markdown",
   "metadata": {
    "id": "w4G4CIhNty7a"
   },
   "source": [
    "##Import libraries"
   ]
  },
  {
   "cell_type": "code",
   "execution_count": 29,
   "metadata": {
    "id": "WmtdxAvUsXxp"
   },
   "outputs": [],
   "source": [
    "import pandas as pd  # For data manipulation\n",
    "import numpy as np  # For numerical operations\n",
    "import matplotlib.pyplot as plt  # For plotting graphs\n",
    "import datetime as dt# For handling time series data\n",
    "import seaborn as sns  # For statistical data visualization\n",
    "\n",
    "\n"
   ]
  },
  {
   "cell_type": "markdown",
   "metadata": {
    "id": "eCJSj7sBt0LL"
   },
   "source": [
    "##Load the DataSet"
   ]
  },
  {
   "cell_type": "code",
   "execution_count": 4,
   "metadata": {
    "id": "Nvukl26xt3aN"
   },
   "outputs": [],
   "source": [
    "data_sales = pd.read_csv('data.csv', encoding='unicode_escape')"
   ]
  },
  {
   "cell_type": "markdown",
   "metadata": {
    "id": "umzMD2p2kPZH"
   },
   "source": [
    "##Set Plot Style (Optional)\n",
    "\n"
   ]
  },
  {
   "cell_type": "code",
   "execution_count": 5,
   "metadata": {
    "id": "_1DWzK3mkewW"
   },
   "outputs": [
    {
     "name": "stdout",
     "output_type": "stream",
     "text": [
      "       InvoiceNo StockCode                          Description  Quantity  \\\n",
      "0         536365    85123A   WHITE HANGING HEART T-LIGHT HOLDER         6   \n",
      "1         536365     71053                  WHITE METAL LANTERN         6   \n",
      "2         536365    84406B       CREAM CUPID HEARTS COAT HANGER         8   \n",
      "3         536365    84029G  KNITTED UNION FLAG HOT WATER BOTTLE         6   \n",
      "4         536365    84029E       RED WOOLLY HOTTIE WHITE HEART.         6   \n",
      "...          ...       ...                                  ...       ...   \n",
      "541904    581587     22613          PACK OF 20 SPACEBOY NAPKINS        12   \n",
      "541905    581587     22899         CHILDREN'S APRON DOLLY GIRL          6   \n",
      "541906    581587     23254        CHILDRENS CUTLERY DOLLY GIRL          4   \n",
      "541907    581587     23255      CHILDRENS CUTLERY CIRCUS PARADE         4   \n",
      "541908    581587     22138        BAKING SET 9 PIECE RETROSPOT          3   \n",
      "\n",
      "            InvoiceDate  UnitPrice  CustomerID         Country  \n",
      "0        12/1/2010 8:26       2.55     17850.0  United Kingdom  \n",
      "1        12/1/2010 8:26       3.39     17850.0  United Kingdom  \n",
      "2        12/1/2010 8:26       2.75     17850.0  United Kingdom  \n",
      "3        12/1/2010 8:26       3.39     17850.0  United Kingdom  \n",
      "4        12/1/2010 8:26       3.39     17850.0  United Kingdom  \n",
      "...                 ...        ...         ...             ...  \n",
      "541904  12/9/2011 12:50       0.85     12680.0          France  \n",
      "541905  12/9/2011 12:50       2.10     12680.0          France  \n",
      "541906  12/9/2011 12:50       4.15     12680.0          France  \n",
      "541907  12/9/2011 12:50       4.15     12680.0          France  \n",
      "541908  12/9/2011 12:50       4.95     12680.0          France  \n",
      "\n",
      "[541909 rows x 8 columns]\n"
     ]
    }
   ],
   "source": [
    "print(data_sales)"
   ]
  },
  {
   "cell_type": "markdown",
   "metadata": {
    "id": "dYxwk33SkYln"
   },
   "source": [
    "## Basic Data Overview"
   ]
  },
  {
   "cell_type": "code",
   "execution_count": 6,
   "metadata": {
    "id": "650EWCSUkfxY"
   },
   "outputs": [
    {
     "name": "stdout",
     "output_type": "stream",
     "text": [
      "<class 'pandas.core.frame.DataFrame'>\n",
      "RangeIndex: 541909 entries, 0 to 541908\n",
      "Data columns (total 8 columns):\n",
      " #   Column       Non-Null Count   Dtype  \n",
      "---  ------       --------------   -----  \n",
      " 0   InvoiceNo    541909 non-null  object \n",
      " 1   StockCode    541909 non-null  object \n",
      " 2   Description  540455 non-null  object \n",
      " 3   Quantity     541909 non-null  int64  \n",
      " 4   InvoiceDate  541909 non-null  object \n",
      " 5   UnitPrice    541909 non-null  float64\n",
      " 6   CustomerID   406829 non-null  float64\n",
      " 7   Country      541909 non-null  object \n",
      "dtypes: float64(2), int64(1), object(5)\n",
      "memory usage: 33.1+ MB\n",
      "None\n"
     ]
    }
   ],
   "source": [
    "print(data_sales.info())"
   ]
  },
  {
   "cell_type": "markdown",
   "metadata": {
    "id": "Lzg3QUtDuU2u"
   },
   "source": [
    "# 🎯 **Task 1 : Data Cleaning** 🧹\n",
    "**Description**: Clean and preprocess the dataset by handling missing values, formatting data types, and removing incorrect records.\n",
    "\n",
    "**Requirments**:\n",
    "- Handle missing values in CustomerID\n",
    "- Convert InvoiceDate to DateTime type\n",
    "- Remove rows with negative Quantity or UnitPrice\n",
    "- Create a TotalPrice column\n",
    "\n",
    "\n"
   ]
  },
  {
   "cell_type": "code",
   "execution_count": 7,
   "metadata": {
    "id": "-Ih2ngTqDbLf"
   },
   "outputs": [
    {
     "name": "stdout",
     "output_type": "stream",
     "text": [
      "InvoiceNo           0\n",
      "StockCode           0\n",
      "Description      1454\n",
      "Quantity            0\n",
      "InvoiceDate         0\n",
      "UnitPrice           0\n",
      "CustomerID     135080\n",
      "Country             0\n",
      "dtype: int64\n"
     ]
    }
   ],
   "source": [
    "#detect missing data\n",
    "missing_sales=data_sales.isnull().sum()\n",
    "print(missing_sales)"
   ]
  },
  {
   "cell_type": "code",
   "execution_count": 9,
   "metadata": {
    "id": "-Ih2ngTqDbLf"
   },
   "outputs": [
    {
     "name": "stdout",
     "output_type": "stream",
     "text": [
      "InvoiceNo           0\n",
      "StockCode           0\n",
      "Description      1454\n",
      "Quantity            0\n",
      "InvoiceDate         0\n",
      "UnitPrice           0\n",
      "CustomerID     135080\n",
      "Country             0\n",
      "dtype: int64\n"
     ]
    }
   ],
   "source": [
    "# Fill missing CustomerID by propagating from InvoiceNo group\n",
    "# data_sales['CustomerID'] = data_sales.groupby('InvoiceNo')['CustomerID'].transform(lambda x: x.ffill().bfill())\n",
    "# Handle missing values in CustomerID (e.g., fill with a placeholder or drop rows)\n",
    "data_sales['CustomerID'].fillna('Unknown', inplace=True)\n",
    "\n"
   ]
  },
  {
   "cell_type": "code",
   "execution_count": 10,
   "metadata": {
    "id": "-Ih2ngTqDbLf"
   },
   "outputs": [
    {
     "name": "stdout",
     "output_type": "stream",
     "text": [
      "0        2010-12-01 08:26:00\n",
      "1        2010-12-01 08:26:00\n",
      "2        2010-12-01 08:26:00\n",
      "3        2010-12-01 08:26:00\n",
      "4        2010-12-01 08:26:00\n",
      "                 ...        \n",
      "541904   2011-12-09 12:50:00\n",
      "541905   2011-12-09 12:50:00\n",
      "541906   2011-12-09 12:50:00\n",
      "541907   2011-12-09 12:50:00\n",
      "541908   2011-12-09 12:50:00\n",
      "Name: InvoiceDate, Length: 541909, dtype: datetime64[ns]\n"
     ]
    }
   ],
   "source": [
    "\n",
    "# Convert InvoiceDate to DateTime type\n",
    "data_sales['InvoiceDate'] = pd.to_datetime(data_sales['InvoiceDate'])\n",
    "\n",
    "print(data_sales['InvoiceDate'])"
   ]
  },
  {
   "cell_type": "code",
   "execution_count": 16,
   "metadata": {
    "id": "-Ih2ngTqDbLf"
   },
   "outputs": [],
   "source": [
    "# Remove rows with negative Quantity or UnitPrice\n",
    "data_sales = data_sales[(data_sales['Quantity'] > 0) & (data_sales['UnitPrice'] > 0)]\n"
   ]
  },
  {
   "cell_type": "code",
   "execution_count": 17,
   "metadata": {
    "id": "-Ih2ngTqDbLf"
   },
   "outputs": [
    {
     "name": "stdout",
     "output_type": "stream",
     "text": [
      "<class 'pandas.core.frame.DataFrame'>\n",
      "Index: 530104 entries, 0 to 541908\n",
      "Data columns (total 9 columns):\n",
      " #   Column       Non-Null Count   Dtype         \n",
      "---  ------       --------------   -----         \n",
      " 0   InvoiceNo    530104 non-null  object        \n",
      " 1   StockCode    530104 non-null  object        \n",
      " 2   Description  530104 non-null  object        \n",
      " 3   Quantity     530104 non-null  int64         \n",
      " 4   InvoiceDate  530104 non-null  datetime64[ns]\n",
      " 5   UnitPrice    530104 non-null  float64       \n",
      " 6   CustomerID   530104 non-null  object        \n",
      " 7   Country      530104 non-null  object        \n",
      " 8   TotalPrice   530104 non-null  float64       \n",
      "dtypes: datetime64[ns](1), float64(2), int64(1), object(5)\n",
      "memory usage: 40.4+ MB\n",
      "None\n"
     ]
    }
   ],
   "source": [
    "# Create a TotalPrice column (Quantity * UnitPrice)\n",
    "data_sales['TotalPrice'] = data_sales['Quantity'] * data_sales['UnitPrice']\n",
    "\n",
    "print(data_sales.info())"
   ]
  },
  {
   "cell_type": "code",
   "execution_count": 19,
   "metadata": {},
   "outputs": [
    {
     "name": "stdout",
     "output_type": "stream",
     "text": [
      "InvoiceNo      0\n",
      "StockCode      0\n",
      "Description    0\n",
      "Quantity       0\n",
      "InvoiceDate    0\n",
      "UnitPrice      0\n",
      "CustomerID     0\n",
      "Country        0\n",
      "TotalPrice     0\n",
      "dtype: int64\n",
      "<class 'pandas.core.frame.DataFrame'>\n",
      "Index: 530104 entries, 0 to 541908\n",
      "Data columns (total 9 columns):\n",
      " #   Column       Non-Null Count   Dtype         \n",
      "---  ------       --------------   -----         \n",
      " 0   InvoiceNo    530104 non-null  object        \n",
      " 1   StockCode    530104 non-null  object        \n",
      " 2   Description  530104 non-null  object        \n",
      " 3   Quantity     530104 non-null  int64         \n",
      " 4   InvoiceDate  530104 non-null  datetime64[ns]\n",
      " 5   UnitPrice    530104 non-null  float64       \n",
      " 6   CustomerID   530104 non-null  object        \n",
      " 7   Country      530104 non-null  object        \n",
      " 8   TotalPrice   530104 non-null  float64       \n",
      "dtypes: datetime64[ns](1), float64(2), int64(1), object(5)\n",
      "memory usage: 40.4+ MB\n",
      "None\n"
     ]
    }
   ],
   "source": [
    "#detect missing data after cleaning\n",
    "missing_sales=data_sales.isnull().sum()\n",
    "print(missing_sales)\n",
    "print(data_sales.info())"
   ]
  },
  {
   "cell_type": "markdown",
   "metadata": {
    "id": "fZN0QklDv60n"
   },
   "source": [
    "# 🎯 **Task 2 : Exploratory Data Analysis (EDA)** 🔍\n",
    "**Description**: Perform basic descriptive statistics and identify insights from the dataset. Analyze top-selling products and calculate total revenue and transactions.values. You will also check the data types of each column to understand how the data is structured.\n",
    "\n",
    "**Requirments**:\n",
    "-  Use .describe() for statistical summary.\n",
    "- Identify top 10 selling products by Quantity.\n",
    "- Calculate total revenue and number of transactions.\n",
    "\n"
   ]
  },
  {
   "cell_type": "code",
   "execution_count": 20,
   "metadata": {
    "id": "4zyci-SWZxvT"
   },
   "outputs": [
    {
     "name": "stdout",
     "output_type": "stream",
     "text": [
      "            Quantity                    InvoiceDate      UnitPrice  \\\n",
      "count  530104.000000                         530104  530104.000000   \n",
      "mean       10.542037  2011-07-04 20:16:05.225087744       3.907625   \n",
      "min         1.000000            2010-12-01 08:26:00       0.001000   \n",
      "25%         1.000000            2011-03-28 12:22:00       1.250000   \n",
      "50%         3.000000            2011-07-20 12:58:00       2.080000   \n",
      "75%        10.000000            2011-10-19 12:39:00       4.130000   \n",
      "max     80995.000000            2011-12-09 12:50:00   13541.330000   \n",
      "std       155.524124                            NaN      35.915681   \n",
      "\n",
      "          TotalPrice  \n",
      "count  530104.000000  \n",
      "mean       20.121871  \n",
      "min         0.001000  \n",
      "25%         3.750000  \n",
      "50%         9.900000  \n",
      "75%        17.700000  \n",
      "max    168469.600000  \n",
      "std       270.356743  \n"
     ]
    }
   ],
   "source": [
    "# Statistical summary\n",
    "print(data_sales.describe())"
   ]
  },
  {
   "cell_type": "code",
   "execution_count": 21,
   "metadata": {},
   "outputs": [
    {
     "name": "stdout",
     "output_type": "stream",
     "text": [
      "Description\n",
      "PAPER CRAFT , LITTLE BIRDIE           80995\n",
      "MEDIUM CERAMIC TOP STORAGE JAR        78033\n",
      "WORLD WAR 2 GLIDERS ASSTD DESIGNS     55047\n",
      "JUMBO BAG RED RETROSPOT               48474\n",
      "WHITE HANGING HEART T-LIGHT HOLDER    37891\n",
      "POPCORN HOLDER                        36761\n",
      "ASSORTED COLOUR BIRD ORNAMENT         36461\n",
      "PACK OF 72 RETROSPOT CAKE CASES       36419\n",
      "RABBIT NIGHT LIGHT                    30788\n",
      "MINI PAINT SET VINTAGE                26633\n",
      "Name: Quantity, dtype: int64\n"
     ]
    }
   ],
   "source": [
    "# Top 10 selling products by Quantity\n",
    "top_products = data_sales.groupby('Description')['Quantity'].sum().nlargest(10)\n",
    "print(top_products)"
   ]
  },
  {
   "cell_type": "code",
   "execution_count": 23,
   "metadata": {},
   "outputs": [
    {
     "name": "stdout",
     "output_type": "stream",
     "text": [
      "Total Revenue: 10666684.544\n",
      "Total Transactions: 19960\n"
     ]
    }
   ],
   "source": [
    "# Total revenue and number of transactions\n",
    "total_revenue = data_sales['TotalPrice'].sum()\n",
    "total_transactions = data_sales['InvoiceNo'].nunique()\n",
    "print(f\"Total Revenue: {total_revenue}\")\n",
    "print(f\"Total Transactions: {total_transactions}\")"
   ]
  },
  {
   "cell_type": "code",
   "execution_count": 24,
   "metadata": {},
   "outputs": [
    {
     "name": "stdout",
     "output_type": "stream",
     "text": [
      "\n",
      "Data Types:\n",
      "InvoiceNo              object\n",
      "StockCode              object\n",
      "Description            object\n",
      "Quantity                int64\n",
      "InvoiceDate    datetime64[ns]\n",
      "UnitPrice             float64\n",
      "CustomerID             object\n",
      "Country                object\n",
      "TotalPrice            float64\n",
      "dtype: object\n"
     ]
    }
   ],
   "source": [
    "# Check data types of each column\n",
    "print(\"\\nData Types:\")\n",
    "print(data_sales.dtypes)"
   ]
  },
  {
   "cell_type": "markdown",
   "metadata": {
    "id": "1Dn8TLwv-UDJ"
   },
   "source": [
    "# 🎯 **Task 3 : Time Series Analysis** 📅📈\n",
    "**Description**: Analyze sales trends over time and visualize monthly sales. Identify months with highest and lowest sales.\n",
    "\n",
    "**Requirments**:\n",
    "-  Resample the data to obtain monthly sales\n",
    "-  Plot monthly sales trends using a line plot.\n",
    "-  Identify the month with the highest and lowest sales.\n"
   ]
  },
  {
   "cell_type": "code",
   "execution_count": 26,
   "metadata": {
    "id": "JcIkyhOU-k_Q"
   },
   "outputs": [],
   "source": [
    "# Resample data to obtain monthly sales\n",
    "monthly_sales = data_sales.resample('ME', on='InvoiceDate')['TotalPrice'].sum()"
   ]
  },
  {
   "cell_type": "code",
   "execution_count": 27,
   "metadata": {},
   "outputs": [
    {
     "data": {
      "image/png": "[encoded data removed]",
      "text/plain": [
       "<Figure size 1000x600 with 1 Axes>"
      ]
     },
     "metadata": {},
     "output_type": "display_data"
    }
   ],
   "source": [
    "# Plot monthly sales trends\n",
    "plt.figure(figsize=(10, 6))\n",
    "monthly_sales.plot(title='Monthly Sales Trend')\n",
    "plt.xlabel('Month')\n",
    "plt.ylabel('Total Sales')\n",
    "plt.show()"
   ]
  },
  {
   "cell_type": "code",
   "execution_count": 28,
   "metadata": {},
   "outputs": [
    {
     "name": "stdout",
     "output_type": "stream",
     "text": [
      "Highest Sales Month: 2011-11-30 00:00:00\n",
      "Lowest Sales Month: 2011-02-28 00:00:00\n"
     ]
    }
   ],
   "source": [
    " #Identify the month with the highest and lowest sales\n",
    "highest_sales_month = monthly_sales.idxmax()\n",
    "lowest_sales_month = monthly_sales.idxmin()\n",
    "print(f\"Highest Sales Month: {highest_sales_month}\")\n",
    "print(f\"Lowest Sales Month: {lowest_sales_month}\")"
   ]
  },
  {
   "cell_type": "markdown",
   "metadata": {
    "id": "y8SWC4Xc-mM0"
   },
   "source": [
    "# 🎯 **Task 4 : RFM Analysis (Customer Segmentation)** 🧩\n",
    "**Description**: Segment customers based on recency, frequency, and monetary value. Visualize customer distribution in segments.\n",
    "\n",
    "**Requirments**:\n",
    "-  Calculate recency (days since last purchase).\n",
    "-  Calculate frequency (number of purchases).\n",
    "-  Calculate monetary value (total spend).\n",
    "-  Segment customers into High, Medium, Low-value groups.\n",
    "\n"
   ]
  },
  {
   "cell_type": "code",
   "execution_count": 33,
   "metadata": {
    "id": "Ln6cjTTIZyjW"
   },
   "outputs": [],
   "source": [
    "# Calculate Recency, Frequency, and Monetary value\n",
    "snapshot_date = data_sales['InvoiceDate'].max() + dt.timedelta(days=1)\n",
    "rfm = data_sales.groupby('CustomerID').agg({\n",
    "    'InvoiceDate': lambda x: (snapshot_date - x.max()).days,\n",
    "    'InvoiceNo': 'nunique',\n",
    "    'TotalPrice': 'sum'\n",
    "})\n",
    "rfm.columns = ['Recency', 'Frequency', 'Monetary']"
   ]
  },
  {
   "cell_type": "code",
   "execution_count": 36,
   "metadata": {},
   "outputs": [
    {
     "name": "stdout",
     "output_type": "stream",
     "text": [
      "            Recency  Frequency  Monetary Segment\n",
      "CustomerID                                      \n",
      "12346.0         326          1  77183.60    High\n",
      "12347.0           2          7   4310.00    High\n",
      "12348.0          75          4   1797.24    High\n",
      "12349.0          19          1   1757.55    High\n",
      "12350.0         310          1    334.40     Low\n"
     ]
    }
   ],
   "source": [
    "# Segment customers\n",
    "rfm['Segment'] = pd.qcut(rfm['Monetary'], 3, labels=['Low', 'Medium', 'High'])\n",
    "print(rfm.head())"
   ]
  },
  {
   "cell_type": "markdown",
   "metadata": {
    "id": "45l4H7GY_O43"
   },
   "source": [
    "# 🎯 **Task 5 : Product Category Analysis** 📦💰\n",
    "**Description**: Analyze sales and revenue by product category and visualize the top categories by revenue.\n",
    "\n",
    "**Requirments**:\n",
    "-  Extract product category from Description.\n",
    "-  Calculate sales and revenue by category.\n",
    "-  Create a bar plot of the top 5 categories by revenue.\n",
    "\n"
   ]
  },
  {
   "cell_type": "code",
   "execution_count": 37,
   "metadata": {
    "id": "qZHqFV22ZzHt"
   },
   "outputs": [],
   "source": [
    "# Extract product category from Description\n",
    "data_sales['Category'] = data_sales['Description'].apply(lambda x: x.split()[0])"
   ]
  },
  {
   "cell_type": "code",
   "execution_count": 38,
   "metadata": {},
   "outputs": [],
   "source": [
    "# Calculate sales and revenue by category\n",
    "category_revenue = data_sales.groupby('Category')['TotalPrice'].sum().nlargest(5)"
   ]
  },
  {
   "cell_type": "code",
   "execution_count": 39,
   "metadata": {},
   "outputs": [
    {
     "data": {
      "image/png": "[encoded data removed]",
      "text/plain": [
       "<Figure size 640x480 with 1 Axes>"
      ]
     },
     "metadata": {},
     "output_type": "display_data"
    }
   ],
   "source": [
    "# Create a bar plot of the top 5 categories by revenue\n",
    "category_revenue.plot(kind='bar', title='Top 5 Categories by Revenue')\n",
    "plt.xlabel('Category')\n",
    "plt.ylabel('Revenue')\n",
    "plt.show()"
   ]
  },
  {
   "cell_type": "markdown",
   "metadata": {
    "id": "RPbpzMpA_vWu"
   },
   "source": [
    "# 🎯 **Task 6 : Geographical Analysis** 🌍📊\n",
    "**Description**: Analyze sales distribution by country and identify top revenue-generating countries.\n",
    "\n",
    "**Requirments**:\n",
    "-  Calculate total revenue by country.\n",
    "-  Create a bar plot of the top 10 countries by revenue.\n",
    "-  Calculate the percentage of sales from the top 3 countries.\n",
    "\n"
   ]
  },
  {
   "cell_type": "code",
   "execution_count": null,
   "metadata": {
    "id": "_UVxLca9Zzog"
   },
   "outputs": [],
   "source": []
  },
  {
   "cell_type": "markdown",
   "metadata": {
    "id": "qKkQQ3qw__EH"
   },
   "source": [
    "# 🎯 **Task 7 : Customer Behavior Analysis** 👤🛒\n",
    "**Description**: Analyze customer behavior based on order quantity, sales, and purchasing patterns.\n",
    "\n",
    "**Requirments**:\n",
    "-  Plot the distribution of order quantities.\n",
    "-  Create a scatter plot of Quantity vs. TotalPrice.\n",
    "-  Calculate and plot average daily sales throughout the week.\n",
    "\n"
   ]
  },
  {
   "cell_type": "code",
   "execution_count": null,
   "metadata": {
    "id": "Gczn1T55Z0M9"
   },
   "outputs": [],
   "source": []
  },
  {
   "cell_type": "markdown",
   "metadata": {
    "id": "gzp7qq_jAMhw"
   },
   "source": [
    "# 🎯 **Task 8 : Moving Average Forecast** 📉🔮\n",
    "**Description**: Implement a basic moving average forecast for sales based on past data.\n",
    "\n",
    "**Requirments**:\n",
    "-  Prepare daily sales data.\n",
    "-  Calculate a 7-day moving average of sales.\n",
    "-  Plot actual sales vs. moving average for the last 3 months.\n"
   ]
  },
  {
   "cell_type": "code",
   "execution_count": null,
   "metadata": {
    "id": "1yhjEZsOAYE3"
   },
   "outputs": [],
   "source": []
  },
  {
   "cell_type": "markdown",
   "metadata": {
    "id": "-pwcEt5JAiQw"
   },
   "source": [
    "# 🎯 **Task 9 : Summary Dashboard Creation** 📊📺\n",
    "**Description**: Create a dashboard that summarizes key insights through visualizations.\n",
    "\n",
    "**Requirments**:\n",
    "\n",
    "Create a 2x2 subplot with:\n",
    "  1.   Monthly sales trend\n",
    "  2.   Top 5 products by revenue\n",
    "  3.   Customer segment distribution\n",
    "  4.   Top 5 countries by revenue.\n",
    "\n",
    "\n"
   ]
  },
  {
   "cell_type": "code",
   "execution_count": null,
   "metadata": {
    "id": "RATay5wNA496"
   },
   "outputs": [],
   "source": []
  },
  {
   "cell_type": "markdown",
   "metadata": {
    "id": "N7DfPkcyA58f"
   },
   "source": [
    "# 🎯 **Task 10 : Optimize Data Processing** ⚡💻\n",
    "**Description**: Optimize a computationally intensive task using vectorized operations.\n",
    "\n",
    "**Requirments**:\n",
    "-  Implement a task using loops.\n",
    "-  Implement the same task using vectorized operations.\n",
    "-  Compare and report performance differences.\n",
    "\n",
    "\n"
   ]
  },
  {
   "cell_type": "code",
   "execution_count": null,
   "metadata": {
    "id": "5UyYOpRzZvB8"
   },
   "outputs": [],
   "source": []
  },
  {
   "cell_type": "markdown",
   "metadata": {
    "id": "voGEm4gkBVEh"
   },
   "source": [
    "# 🎯 **Task 11 : Report Generation** 📜📋\n",
    "**Description**: Generate a summary report with key insights and recommendations.\n",
    "\n",
    "**Requirments**:\n",
    "-  Summarize overall revenue, top-selling products, best customer segments, and countries.\n",
    "-  Provide insights from time series analysis and recommendations.\n",
    "\n",
    "\n"
   ]
  },
  {
   "cell_type": "code",
   "execution_count": null,
   "metadata": {
    "id": "FRk1IzO2Zwd7"
   },
   "outputs": [],
   "source": []
  }
 ],
 "metadata": {
  "colab": {
   "collapsed_sections": [
    "0jHJa-BQtq8X"
   ],
   "provenance": [],
   "toc_visible": true
  },
  "kernelspec": {
   "display_name": "Python 3",
   "language": "python",
   "name": "python3"
  },
  "language_info": {
   "codemirror_mode": {
    "name": "ipython",
    "version": 3
   },
   "file_extension": ".py",
   "mimetype": "text/x-python",
   "name": "python",
   "nbconvert_exporter": "python",
   "pygments_lexer": "ipython3",
   "version": "3.12.6"
  }
 },
 "nbformat": 4,
 "nbformat_minor": 4
}
