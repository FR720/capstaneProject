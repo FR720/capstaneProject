{
 "cells": [
  {
   "cell_type": "markdown",
   "metadata": {
    "id": "Cyhl_w6pfxIL"
   },
   "source": [
    "# **Capstone Project: E-commerce Sales Analysis**: 🎓📊\n",
    "\n",
    "<h1 style=\"font-size: 50px; font-family: Arial, sans-serif; color: #4CAF50;\">\n",
    "  Team Information 👥\n",
    "\n",
    "</h1>\n",
    "\n",
    "---\n"
   ]
  },
  {
   "cell_type": "markdown",
   "metadata": {
    "id": "J9L1SypLkzJh"
   },
   "source": [
    "**Team 8** - Sprints Bootcamp\n",
    "\n",
    "**Team Members:**\n",
    "  ```\n",
    "Remas\n",
    "Menna Magdy Mohamed\n",
    "Ibrahim Abdel Basir Gomaa\n",
    "Fady Raouf\n",
    "Mohamed Alaa Farrag\n",
    "```\n",
    "\n",
    "\n"
   ]
  },
  {
   "cell_type": "markdown",
   "metadata": {
    "id": "0jHJa-BQtq8X"
   },
   "source": [
    "# **Setting Up the Environment** 🛠️\n",
    "\n",
    "---\n",
    "\n"
   ]
  },
  {
   "cell_type": "code",
   "execution_count": 1,
   "metadata": {
    "id": "a5P4hFB2ilC5"
   },
   "outputs": [
    {
     "name": "stdout",
     "output_type": "stream",
     "text": [
      "Defaulting to user installation because normal site-packages is not writeable\n",
      "Requirement already satisfied: pandas in c:\\users\\fady\\appdata\\roaming\\python\\python312\\site-packages (2.2.3)\n",
      "Requirement already satisfied: numpy in c:\\users\\fady\\appdata\\roaming\\python\\python312\\site-packages (1.26.4)\n",
      "Requirement already satisfied: matplotlib in c:\\users\\fady\\appdata\\roaming\\python\\python312\\site-packages (3.10.0)\n",
      "Requirement already satisfied: seaborn in c:\\users\\fady\\appdata\\roaming\\python\\python312\\site-packages (0.13.2)\n",
      "Requirement already satisfied: python-dateutil>=2.8.2 in c:\\users\\fady\\appdata\\roaming\\python\\python312\\site-packages (from pandas) (2.9.0.post0)\n",
      "Requirement already satisfied: pytz>=2020.1 in c:\\users\\fady\\appdata\\roaming\\python\\python312\\site-packages (from pandas) (2024.2)\n",
      "Requirement already satisfied: tzdata>=2022.7 in c:\\users\\fady\\appdata\\roaming\\python\\python312\\site-packages (from pandas) (2024.2)\n",
      "Requirement already satisfied: contourpy>=1.0.1 in c:\\users\\fady\\appdata\\roaming\\python\\python312\\site-packages (from matplotlib) (1.3.1)\n",
      "Requirement already satisfied: cycler>=0.10 in c:\\users\\fady\\appdata\\roaming\\python\\python312\\site-packages (from matplotlib) (0.12.1)\n",
      "Requirement already satisfied: fonttools>=4.22.0 in c:\\users\\fady\\appdata\\roaming\\python\\python312\\site-packages (from matplotlib) (4.55.3)\n",
      "Requirement already satisfied: kiwisolver>=1.3.1 in c:\\users\\fady\\appdata\\roaming\\python\\python312\\site-packages (from matplotlib) (1.4.8)\n",
      "Requirement already satisfied: packaging>=20.0 in c:\\users\\fady\\appdata\\roaming\\python\\python312\\site-packages (from matplotlib) (24.2)\n",
      "Requirement already satisfied: pillow>=8 in c:\\users\\fady\\appdata\\roaming\\python\\python312\\site-packages (from matplotlib) (11.0.0)\n",
      "Requirement already satisfied: pyparsing>=2.3.1 in c:\\users\\fady\\appdata\\roaming\\python\\python312\\site-packages (from matplotlib) (3.2.0)\n",
      "Requirement already satisfied: six>=1.5 in c:\\users\\fady\\appdata\\roaming\\python\\python312\\site-packages (from python-dateutil>=2.8.2->pandas) (1.17.0)\n"
     ]
    }
   ],
   "source": [
    "!pip install pandas numpy matplotlib seaborn\n"
   ]
  },
  {
   "cell_type": "markdown",
   "metadata": {
    "id": "w4G4CIhNty7a"
   },
   "source": [
    "##Import libraries"
   ]
  },
  {
   "cell_type": "code",
   "execution_count": 60,
   "metadata": {
    "id": "WmtdxAvUsXxp"
   },
   "outputs": [],
   "source": [
    "import pandas as pd  # For data manipulation\n",
    "import numpy as np  # For numerical operations\n",
    "import matplotlib.pyplot as plt  # For plotting graphs\n",
    "import datetime as dt# For handling time series data\n",
    "import seaborn as sns  # For statistical data visualization\n",
    "import plotly.graph_objects as go\n",
    "import time \n",
    "\n",
    "\n"
   ]
  },
  {
   "cell_type": "markdown",
   "metadata": {
    "id": "eCJSj7sBt0LL"
   },
   "source": [
    "##Load the DataSet"
   ]
  },
  {
   "cell_type": "code",
   "execution_count": 4,
   "metadata": {
    "id": "Nvukl26xt3aN"
   },
   "outputs": [],
   "source": [
    "data_sales = pd.read_csv('data.csv', encoding='unicode_escape')"
   ]
  },
  {
   "cell_type": "markdown",
   "metadata": {
    "id": "umzMD2p2kPZH"
   },
   "source": [
    "##Set Plot Style (Optional)\n",
    "\n"
   ]
  },
  {
   "cell_type": "code",
   "execution_count": 176,
   "metadata": {
    "id": "_1DWzK3mkewW"
   },
   "outputs": [
    {
     "data": {
      "text/html": [
       "<div>\n",
       "<style scoped>\n",
       "    .dataframe tbody tr th:only-of-type {\n",
       "        vertical-align: middle;\n",
       "    }\n",
       "\n",
       "    .dataframe tbody tr th {\n",
       "        vertical-align: top;\n",
       "    }\n",
       "\n",
       "    .dataframe thead th {\n",
       "        text-align: right;\n",
       "    }\n",
       "</style>\n",
       "<table border=\"1\" class=\"dataframe\">\n",
       "  <thead>\n",
       "    <tr style=\"text-align: right;\">\n",
       "      <th></th>\n",
       "      <th>InvoiceNo</th>\n",
       "      <th>StockCode</th>\n",
       "      <th>Description</th>\n",
       "      <th>Quantity</th>\n",
       "      <th>InvoiceDate</th>\n",
       "      <th>UnitPrice</th>\n",
       "      <th>CustomerID</th>\n",
       "      <th>Country</th>\n",
       "      <th>TotalPrice</th>\n",
       "      <th>Category</th>\n",
       "      <th>DayOfWeek</th>\n",
       "    </tr>\n",
       "  </thead>\n",
       "  <tbody>\n",
       "    <tr>\n",
       "      <th>0</th>\n",
       "      <td>536365</td>\n",
       "      <td>85123A</td>\n",
       "      <td>WHITE HANGING HEART T-LIGHT HOLDER</td>\n",
       "      <td>6</td>\n",
       "      <td>2010-12-01 08:26:00</td>\n",
       "      <td>2.55</td>\n",
       "      <td>17850.0</td>\n",
       "      <td>United Kingdom</td>\n",
       "      <td>15.30</td>\n",
       "      <td>WHITE</td>\n",
       "      <td>Wednesday</td>\n",
       "    </tr>\n",
       "    <tr>\n",
       "      <th>1</th>\n",
       "      <td>536365</td>\n",
       "      <td>71053</td>\n",
       "      <td>WHITE METAL LANTERN</td>\n",
       "      <td>6</td>\n",
       "      <td>2010-12-01 08:26:00</td>\n",
       "      <td>3.39</td>\n",
       "      <td>17850.0</td>\n",
       "      <td>United Kingdom</td>\n",
       "      <td>20.34</td>\n",
       "      <td>WHITE</td>\n",
       "      <td>Wednesday</td>\n",
       "    </tr>\n",
       "    <tr>\n",
       "      <th>2</th>\n",
       "      <td>536365</td>\n",
       "      <td>84406B</td>\n",
       "      <td>CREAM CUPID HEARTS COAT HANGER</td>\n",
       "      <td>8</td>\n",
       "      <td>2010-12-01 08:26:00</td>\n",
       "      <td>2.75</td>\n",
       "      <td>17850.0</td>\n",
       "      <td>United Kingdom</td>\n",
       "      <td>22.00</td>\n",
       "      <td>CREAM</td>\n",
       "      <td>Wednesday</td>\n",
       "    </tr>\n",
       "    <tr>\n",
       "      <th>3</th>\n",
       "      <td>536365</td>\n",
       "      <td>84029G</td>\n",
       "      <td>KNITTED UNION FLAG HOT WATER BOTTLE</td>\n",
       "      <td>6</td>\n",
       "      <td>2010-12-01 08:26:00</td>\n",
       "      <td>3.39</td>\n",
       "      <td>17850.0</td>\n",
       "      <td>United Kingdom</td>\n",
       "      <td>20.34</td>\n",
       "      <td>KNITTED</td>\n",
       "      <td>Wednesday</td>\n",
       "    </tr>\n",
       "    <tr>\n",
       "      <th>4</th>\n",
       "      <td>536365</td>\n",
       "      <td>84029E</td>\n",
       "      <td>RED WOOLLY HOTTIE WHITE HEART.</td>\n",
       "      <td>6</td>\n",
       "      <td>2010-12-01 08:26:00</td>\n",
       "      <td>3.39</td>\n",
       "      <td>17850.0</td>\n",
       "      <td>United Kingdom</td>\n",
       "      <td>20.34</td>\n",
       "      <td>RED</td>\n",
       "      <td>Wednesday</td>\n",
       "    </tr>\n",
       "    <tr>\n",
       "      <th>...</th>\n",
       "      <td>...</td>\n",
       "      <td>...</td>\n",
       "      <td>...</td>\n",
       "      <td>...</td>\n",
       "      <td>...</td>\n",
       "      <td>...</td>\n",
       "      <td>...</td>\n",
       "      <td>...</td>\n",
       "      <td>...</td>\n",
       "      <td>...</td>\n",
       "      <td>...</td>\n",
       "    </tr>\n",
       "    <tr>\n",
       "      <th>541904</th>\n",
       "      <td>581587</td>\n",
       "      <td>22613</td>\n",
       "      <td>PACK OF 20 SPACEBOY NAPKINS</td>\n",
       "      <td>12</td>\n",
       "      <td>2011-12-09 12:50:00</td>\n",
       "      <td>0.85</td>\n",
       "      <td>12680.0</td>\n",
       "      <td>France</td>\n",
       "      <td>10.20</td>\n",
       "      <td>PACK</td>\n",
       "      <td>Friday</td>\n",
       "    </tr>\n",
       "    <tr>\n",
       "      <th>541905</th>\n",
       "      <td>581587</td>\n",
       "      <td>22899</td>\n",
       "      <td>CHILDREN'S APRON DOLLY GIRL</td>\n",
       "      <td>6</td>\n",
       "      <td>2011-12-09 12:50:00</td>\n",
       "      <td>2.10</td>\n",
       "      <td>12680.0</td>\n",
       "      <td>France</td>\n",
       "      <td>12.60</td>\n",
       "      <td>CHILDREN'S</td>\n",
       "      <td>Friday</td>\n",
       "    </tr>\n",
       "    <tr>\n",
       "      <th>541906</th>\n",
       "      <td>581587</td>\n",
       "      <td>23254</td>\n",
       "      <td>CHILDRENS CUTLERY DOLLY GIRL</td>\n",
       "      <td>4</td>\n",
       "      <td>2011-12-09 12:50:00</td>\n",
       "      <td>4.15</td>\n",
       "      <td>12680.0</td>\n",
       "      <td>France</td>\n",
       "      <td>16.60</td>\n",
       "      <td>CHILDRENS</td>\n",
       "      <td>Friday</td>\n",
       "    </tr>\n",
       "    <tr>\n",
       "      <th>541907</th>\n",
       "      <td>581587</td>\n",
       "      <td>23255</td>\n",
       "      <td>CHILDRENS CUTLERY CIRCUS PARADE</td>\n",
       "      <td>4</td>\n",
       "      <td>2011-12-09 12:50:00</td>\n",
       "      <td>4.15</td>\n",
       "      <td>12680.0</td>\n",
       "      <td>France</td>\n",
       "      <td>16.60</td>\n",
       "      <td>CHILDRENS</td>\n",
       "      <td>Friday</td>\n",
       "    </tr>\n",
       "    <tr>\n",
       "      <th>541908</th>\n",
       "      <td>581587</td>\n",
       "      <td>22138</td>\n",
       "      <td>BAKING SET 9 PIECE RETROSPOT</td>\n",
       "      <td>3</td>\n",
       "      <td>2011-12-09 12:50:00</td>\n",
       "      <td>4.95</td>\n",
       "      <td>12680.0</td>\n",
       "      <td>France</td>\n",
       "      <td>14.85</td>\n",
       "      <td>BAKING</td>\n",
       "      <td>Friday</td>\n",
       "    </tr>\n",
       "  </tbody>\n",
       "</table>\n",
       "<p>530104 rows × 11 columns</p>\n",
       "</div>"
      ],
      "text/plain": [
       "       InvoiceNo StockCode                          Description  Quantity  \\\n",
       "0         536365    85123A   WHITE HANGING HEART T-LIGHT HOLDER         6   \n",
       "1         536365     71053                  WHITE METAL LANTERN         6   \n",
       "2         536365    84406B       CREAM CUPID HEARTS COAT HANGER         8   \n",
       "3         536365    84029G  KNITTED UNION FLAG HOT WATER BOTTLE         6   \n",
       "4         536365    84029E       RED WOOLLY HOTTIE WHITE HEART.         6   \n",
       "...          ...       ...                                  ...       ...   \n",
       "541904    581587     22613          PACK OF 20 SPACEBOY NAPKINS        12   \n",
       "541905    581587     22899         CHILDREN'S APRON DOLLY GIRL          6   \n",
       "541906    581587     23254        CHILDRENS CUTLERY DOLLY GIRL          4   \n",
       "541907    581587     23255      CHILDRENS CUTLERY CIRCUS PARADE         4   \n",
       "541908    581587     22138        BAKING SET 9 PIECE RETROSPOT          3   \n",
       "\n",
       "               InvoiceDate  UnitPrice CustomerID         Country  TotalPrice  \\\n",
       "0      2010-12-01 08:26:00       2.55    17850.0  United Kingdom       15.30   \n",
       "1      2010-12-01 08:26:00       3.39    17850.0  United Kingdom       20.34   \n",
       "2      2010-12-01 08:26:00       2.75    17850.0  United Kingdom       22.00   \n",
       "3      2010-12-01 08:26:00       3.39    17850.0  United Kingdom       20.34   \n",
       "4      2010-12-01 08:26:00       3.39    17850.0  United Kingdom       20.34   \n",
       "...                    ...        ...        ...             ...         ...   \n",
       "541904 2011-12-09 12:50:00       0.85    12680.0          France       10.20   \n",
       "541905 2011-12-09 12:50:00       2.10    12680.0          France       12.60   \n",
       "541906 2011-12-09 12:50:00       4.15    12680.0          France       16.60   \n",
       "541907 2011-12-09 12:50:00       4.15    12680.0          France       16.60   \n",
       "541908 2011-12-09 12:50:00       4.95    12680.0          France       14.85   \n",
       "\n",
       "          Category  DayOfWeek  \n",
       "0            WHITE  Wednesday  \n",
       "1            WHITE  Wednesday  \n",
       "2            CREAM  Wednesday  \n",
       "3          KNITTED  Wednesday  \n",
       "4              RED  Wednesday  \n",
       "...            ...        ...  \n",
       "541904        PACK     Friday  \n",
       "541905  CHILDREN'S     Friday  \n",
       "541906   CHILDRENS     Friday  \n",
       "541907   CHILDRENS     Friday  \n",
       "541908      BAKING     Friday  \n",
       "\n",
       "[530104 rows x 11 columns]"
      ]
     },
     "metadata": {},
     "output_type": "display_data"
    }
   ],
   "source": [
    "display(data_sales)"
   ]
  },
  {
   "cell_type": "markdown",
   "metadata": {
    "id": "dYxwk33SkYln"
   },
   "source": [
    "## Basic Data Overview"
   ]
  },
  {
   "cell_type": "code",
   "execution_count": 177,
   "metadata": {
    "id": "650EWCSUkfxY"
   },
   "outputs": [
    {
     "name": "stdout",
     "output_type": "stream",
     "text": [
      "<class 'pandas.core.frame.DataFrame'>\n",
      "Index: 530104 entries, 0 to 541908\n",
      "Data columns (total 11 columns):\n",
      " #   Column       Non-Null Count   Dtype         \n",
      "---  ------       --------------   -----         \n",
      " 0   InvoiceNo    530104 non-null  object        \n",
      " 1   StockCode    530104 non-null  object        \n",
      " 2   Description  530104 non-null  object        \n",
      " 3   Quantity     530104 non-null  int64         \n",
      " 4   InvoiceDate  530104 non-null  datetime64[ns]\n",
      " 5   UnitPrice    530104 non-null  float64       \n",
      " 6   CustomerID   530104 non-null  object        \n",
      " 7   Country      530104 non-null  object        \n",
      " 8   TotalPrice   530104 non-null  float64       \n",
      " 9   Category     530104 non-null  object        \n",
      " 10  DayOfWeek    530104 non-null  object        \n",
      "dtypes: datetime64[ns](1), float64(2), int64(1), object(7)\n",
      "memory usage: 48.5+ MB\n",
      "None\n"
     ]
    }
   ],
   "source": [
    "print(data_sales.info())"
   ]
  },
  {
   "cell_type": "markdown",
   "metadata": {
    "id": "Lzg3QUtDuU2u"
   },
   "source": [
    "# 🎯 **Task 1 : Data Cleaning** 🧹\n",
    "**Description**: Clean and preprocess the dataset by handling missing values, formatting data types, and removing incorrect records.\n",
    "\n",
    "**Requirments**:\n",
    "- Handle missing values in CustomerID\n",
    "- Convert InvoiceDate to DateTime type\n",
    "- Remove rows with negative Quantity or UnitPrice\n",
    "- Create a TotalPrice column\n",
    "\n",
    "\n"
   ]
  },
  {
   "cell_type": "code",
   "execution_count": 208,
   "metadata": {
    "id": "-Ih2ngTqDbLf"
   },
   "outputs": [
    {
     "name": "stdout",
     "output_type": "stream",
     "text": [
      "InvoiceNo      0\n",
      "StockCode      0\n",
      "Description    0\n",
      "Quantity       0\n",
      "InvoiceDate    0\n",
      "UnitPrice      0\n",
      "CustomerID     0\n",
      "Country        0\n",
      "TotalPrice     0\n",
      "Category       0\n",
      "DayOfWeek      0\n",
      "dtype: int64\n"
     ]
    }
   ],
   "source": [
    "#detect missing data\n",
    "missing_sales=data_sales.isnull().sum()\n",
    "print(missing_sales)"
   ]
  },
  {
   "cell_type": "code",
   "execution_count": 179,
   "metadata": {
    "id": "-Ih2ngTqDbLf"
   },
   "outputs": [
    {
     "name": "stderr",
     "output_type": "stream",
     "text": [
      "C:\\Users\\fady\\AppData\\Local\\Temp\\ipykernel_10812\\2050722795.py:4: FutureWarning:\n",
      "\n",
      "A value is trying to be set on a copy of a DataFrame or Series through chained assignment using an inplace method.\n",
      "The behavior will change in pandas 3.0. This inplace method will never work because the intermediate object on which we are setting values always behaves as a copy.\n",
      "\n",
      "For example, when doing 'df[col].method(value, inplace=True)', try using 'df.method({col: value}, inplace=True)' or df[col] = df[col].method(value) instead, to perform the operation inplace on the original object.\n",
      "\n",
      "\n",
      "\n"
     ]
    }
   ],
   "source": [
    "# Fill missing CustomerID by propagating from InvoiceNo group\n",
    "# data_sales['CustomerID'] = data_sales.groupby('InvoiceNo')['CustomerID'].transform(lambda x: x.ffill().bfill())\n",
    "# Handle missing values in CustomerID (e.g., fill with a placeholder or drop rows)\n",
    "data_sales['CustomerID'].fillna('Unknown', inplace=True)\n",
    "\n"
   ]
  },
  {
   "cell_type": "code",
   "execution_count": 237,
   "metadata": {
    "id": "-Ih2ngTqDbLf"
   },
   "outputs": [
    {
     "data": {
      "text/plain": [
       "0        2010-12-01 08:26:00\n",
       "1        2010-12-01 08:26:00\n",
       "2        2010-12-01 08:26:00\n",
       "3        2010-12-01 08:26:00\n",
       "4        2010-12-01 08:26:00\n",
       "                 ...        \n",
       "541904   2011-12-09 12:50:00\n",
       "541905   2011-12-09 12:50:00\n",
       "541906   2011-12-09 12:50:00\n",
       "541907   2011-12-09 12:50:00\n",
       "541908   2011-12-09 12:50:00\n",
       "Name: InvoiceDate, Length: 530104, dtype: datetime64[ns]"
      ]
     },
     "metadata": {},
     "output_type": "display_data"
    }
   ],
   "source": [
    "\n",
    "# Convert InvoiceDate to DateTime type\n",
    "data_sales['InvoiceDate'] = pd.to_datetime(data_sales['InvoiceDate'])\n",
    "\n",
    "display(data_sales['InvoiceDate'])"
   ]
  },
  {
   "cell_type": "code",
   "execution_count": 238,
   "metadata": {
    "id": "-Ih2ngTqDbLf"
   },
   "outputs": [],
   "source": [
    "# Remove rows with negative Quantity or UnitPrice\n",
    "data_sales = data_sales[(data_sales['Quantity'] > 0) & (data_sales['UnitPrice'] > 0)]\n"
   ]
  },
  {
   "cell_type": "code",
   "execution_count": 239,
   "metadata": {
    "id": "-Ih2ngTqDbLf"
   },
   "outputs": [
    {
     "name": "stdout",
     "output_type": "stream",
     "text": [
      "<class 'pandas.core.frame.DataFrame'>\n",
      "Index: 530104 entries, 0 to 541908\n",
      "Data columns (total 11 columns):\n",
      " #   Column       Non-Null Count   Dtype         \n",
      "---  ------       --------------   -----         \n",
      " 0   InvoiceNo    530104 non-null  object        \n",
      " 1   StockCode    530104 non-null  object        \n",
      " 2   Description  530104 non-null  object        \n",
      " 3   Quantity     530104 non-null  int64         \n",
      " 4   InvoiceDate  530104 non-null  datetime64[ns]\n",
      " 5   UnitPrice    530104 non-null  float64       \n",
      " 6   CustomerID   530104 non-null  object        \n",
      " 7   Country      530104 non-null  object        \n",
      " 8   TotalPrice   530104 non-null  float64       \n",
      " 9   Category     530104 non-null  object        \n",
      " 10  DayOfWeek    530104 non-null  object        \n",
      "dtypes: datetime64[ns](1), float64(2), int64(1), object(7)\n",
      "memory usage: 48.5+ MB\n",
      "None\n"
     ]
    }
   ],
   "source": [
    "# Create a TotalPrice column (Quantity * UnitPrice)\n",
    "data_sales['TotalPrice'] = data_sales['Quantity'] * data_sales['UnitPrice']\n",
    "\n",
    "print(data_sales.info())"
   ]
  },
  {
   "cell_type": "code",
   "execution_count": 240,
   "metadata": {},
   "outputs": [
    {
     "name": "stdout",
     "output_type": "stream",
     "text": [
      "InvoiceNo      0\n",
      "StockCode      0\n",
      "Description    0\n",
      "Quantity       0\n",
      "InvoiceDate    0\n",
      "UnitPrice      0\n",
      "CustomerID     0\n",
      "Country        0\n",
      "TotalPrice     0\n",
      "Category       0\n",
      "DayOfWeek      0\n",
      "dtype: int64\n",
      "<class 'pandas.core.frame.DataFrame'>\n",
      "Index: 530104 entries, 0 to 541908\n",
      "Data columns (total 11 columns):\n",
      " #   Column       Non-Null Count   Dtype         \n",
      "---  ------       --------------   -----         \n",
      " 0   InvoiceNo    530104 non-null  object        \n",
      " 1   StockCode    530104 non-null  object        \n",
      " 2   Description  530104 non-null  object        \n",
      " 3   Quantity     530104 non-null  int64         \n",
      " 4   InvoiceDate  530104 non-null  datetime64[ns]\n",
      " 5   UnitPrice    530104 non-null  float64       \n",
      " 6   CustomerID   530104 non-null  object        \n",
      " 7   Country      530104 non-null  object        \n",
      " 8   TotalPrice   530104 non-null  float64       \n",
      " 9   Category     530104 non-null  object        \n",
      " 10  DayOfWeek    530104 non-null  object        \n",
      "dtypes: datetime64[ns](1), float64(2), int64(1), object(7)\n",
      "memory usage: 48.5+ MB\n",
      "None\n"
     ]
    }
   ],
   "source": [
    "#detect missing data after cleaning\n",
    "missing_sales=data_sales.isnull().sum()\n",
    "print(missing_sales)\n",
    "print(data_sales.info())"
   ]
  },
  {
   "cell_type": "markdown",
   "metadata": {
    "id": "fZN0QklDv60n"
   },
   "source": [
    "# 🎯 **Task 2 : Exploratory Data Analysis (EDA)** 🔍\n",
    "**Description**: Perform basic descriptive statistics and identify insights from the dataset. Analyze top-selling products and calculate total revenue and transactions.values. You will also check the data types of each column to understand how the data is structured.\n",
    "\n",
    "**Requirments**:\n",
    "-  Use .describe() for statistical summary.\n",
    "- Identify top 10 selling products by Quantity.\n",
    "- Calculate total revenue and number of transactions.\n",
    "\n"
   ]
  },
  {
   "cell_type": "code",
   "execution_count": 289,
   "metadata": {
    "id": "4zyci-SWZxvT"
   },
   "outputs": [
    {
     "data": {
      "text/html": [
       "<div>\n",
       "<style scoped>\n",
       "    .dataframe tbody tr th:only-of-type {\n",
       "        vertical-align: middle;\n",
       "    }\n",
       "\n",
       "    .dataframe tbody tr th {\n",
       "        vertical-align: top;\n",
       "    }\n",
       "\n",
       "    .dataframe thead th {\n",
       "        text-align: right;\n",
       "    }\n",
       "</style>\n",
       "<table border=\"1\" class=\"dataframe\">\n",
       "  <thead>\n",
       "    <tr style=\"text-align: right;\">\n",
       "      <th></th>\n",
       "      <th>Quantity</th>\n",
       "      <th>InvoiceDate</th>\n",
       "      <th>UnitPrice</th>\n",
       "      <th>TotalPrice</th>\n",
       "    </tr>\n",
       "  </thead>\n",
       "  <tbody>\n",
       "    <tr>\n",
       "      <th>count</th>\n",
       "      <td>530104.000000</td>\n",
       "      <td>530104</td>\n",
       "      <td>530104.000000</td>\n",
       "      <td>530104.000000</td>\n",
       "    </tr>\n",
       "    <tr>\n",
       "      <th>mean</th>\n",
       "      <td>10.542037</td>\n",
       "      <td>2011-07-04 20:16:05.225087744</td>\n",
       "      <td>3.907625</td>\n",
       "      <td>20.121871</td>\n",
       "    </tr>\n",
       "    <tr>\n",
       "      <th>min</th>\n",
       "      <td>1.000000</td>\n",
       "      <td>2010-12-01 08:26:00</td>\n",
       "      <td>0.001000</td>\n",
       "      <td>0.001000</td>\n",
       "    </tr>\n",
       "    <tr>\n",
       "      <th>25%</th>\n",
       "      <td>1.000000</td>\n",
       "      <td>2011-03-28 12:22:00</td>\n",
       "      <td>1.250000</td>\n",
       "      <td>3.750000</td>\n",
       "    </tr>\n",
       "    <tr>\n",
       "      <th>50%</th>\n",
       "      <td>3.000000</td>\n",
       "      <td>2011-07-20 12:58:00</td>\n",
       "      <td>2.080000</td>\n",
       "      <td>9.900000</td>\n",
       "    </tr>\n",
       "    <tr>\n",
       "      <th>75%</th>\n",
       "      <td>10.000000</td>\n",
       "      <td>2011-10-19 12:39:00</td>\n",
       "      <td>4.130000</td>\n",
       "      <td>17.700000</td>\n",
       "    </tr>\n",
       "    <tr>\n",
       "      <th>max</th>\n",
       "      <td>80995.000000</td>\n",
       "      <td>2011-12-09 12:50:00</td>\n",
       "      <td>13541.330000</td>\n",
       "      <td>168469.600000</td>\n",
       "    </tr>\n",
       "    <tr>\n",
       "      <th>std</th>\n",
       "      <td>155.524124</td>\n",
       "      <td>NaN</td>\n",
       "      <td>35.915681</td>\n",
       "      <td>270.356743</td>\n",
       "    </tr>\n",
       "  </tbody>\n",
       "</table>\n",
       "</div>"
      ],
      "text/plain": [
       "            Quantity                    InvoiceDate      UnitPrice  \\\n",
       "count  530104.000000                         530104  530104.000000   \n",
       "mean       10.542037  2011-07-04 20:16:05.225087744       3.907625   \n",
       "min         1.000000            2010-12-01 08:26:00       0.001000   \n",
       "25%         1.000000            2011-03-28 12:22:00       1.250000   \n",
       "50%         3.000000            2011-07-20 12:58:00       2.080000   \n",
       "75%        10.000000            2011-10-19 12:39:00       4.130000   \n",
       "max     80995.000000            2011-12-09 12:50:00   13541.330000   \n",
       "std       155.524124                            NaN      35.915681   \n",
       "\n",
       "          TotalPrice  \n",
       "count  530104.000000  \n",
       "mean       20.121871  \n",
       "min         0.001000  \n",
       "25%         3.750000  \n",
       "50%         9.900000  \n",
       "75%        17.700000  \n",
       "max    168469.600000  \n",
       "std       270.356743  "
      ]
     },
     "metadata": {},
     "output_type": "display_data"
    }
   ],
   "source": [
    "# Statistical summary\n",
    "display(data_sales.describe())"
   ]
  },
  {
   "cell_type": "code",
   "execution_count": 290,
   "metadata": {},
   "outputs": [
    {
     "name": "stdout",
     "output_type": "stream",
     "text": [
      "Description\n",
      "PAPER CRAFT , LITTLE BIRDIE           80995\n",
      "MEDIUM CERAMIC TOP STORAGE JAR        78033\n",
      "WORLD WAR 2 GLIDERS ASSTD DESIGNS     55047\n",
      "JUMBO BAG RED RETROSPOT               48474\n",
      "WHITE HANGING HEART T-LIGHT HOLDER    37891\n",
      "POPCORN HOLDER                        36761\n",
      "ASSORTED COLOUR BIRD ORNAMENT         36461\n",
      "PACK OF 72 RETROSPOT CAKE CASES       36419\n",
      "RABBIT NIGHT LIGHT                    30788\n",
      "MINI PAINT SET VINTAGE                26633\n",
      "Name: Quantity, dtype: int64\n"
     ]
    }
   ],
   "source": [
    "# Top 10 selling products by Quantity\n",
    "top_products = data_sales.groupby('Description')['Quantity'].sum().nlargest(10)\n",
    "print(top_products)"
   ]
  },
  {
   "cell_type": "code",
   "execution_count": 291,
   "metadata": {},
   "outputs": [
    {
     "name": "stdout",
     "output_type": "stream",
     "text": [
      "Total Revenue: 10666684.544\n",
      "Total Transactions: 19960\n"
     ]
    }
   ],
   "source": [
    "# Total revenue and number of transactions\n",
    "total_revenue = data_sales['TotalPrice'].sum()\n",
    "total_transactions = data_sales['InvoiceNo'].nunique()\n",
    "print(f\"Total Revenue: {total_revenue}\")\n",
    "print(f\"Total Transactions: {total_transactions}\")"
   ]
  },
  {
   "cell_type": "code",
   "execution_count": 292,
   "metadata": {},
   "outputs": [
    {
     "name": "stdout",
     "output_type": "stream",
     "text": [
      "\n",
      "Data Types:\n",
      "InvoiceNo              object\n",
      "StockCode              object\n",
      "Description            object\n",
      "Quantity                int64\n",
      "InvoiceDate    datetime64[ns]\n",
      "UnitPrice             float64\n",
      "CustomerID             object\n",
      "Country                object\n",
      "TotalPrice            float64\n",
      "Category               object\n",
      "DayOfWeek              object\n",
      "dtype: object\n"
     ]
    }
   ],
   "source": [
    "# Check data types of each column\n",
    "print(\"\\nData Types:\")\n",
    "print(data_sales.dtypes)"
   ]
  },
  {
   "cell_type": "markdown",
   "metadata": {
    "id": "1Dn8TLwv-UDJ"
   },
   "source": [
    "# 🎯 **Task 3 : Time Series Analysis** 📅📈\n",
    "**Description**: Analyze sales trends over time and visualize monthly sales. Identify months with highest and lowest sales.\n",
    "\n",
    "**Requirments**:\n",
    "-  Resample the data to obtain monthly sales\n",
    "-  Plot monthly sales trends using a line plot.\n",
    "-  Identify the month with the highest and lowest sales.\n"
   ]
  },
  {
   "cell_type": "code",
   "execution_count": 293,
   "metadata": {
    "id": "JcIkyhOU-k_Q"
   },
   "outputs": [],
   "source": [
    "# Resample data to obtain monthly sales\n",
    "monthly_sales = data_sales.resample('ME', on='InvoiceDate')['TotalPrice'].sum()"
   ]
  },
  {
   "cell_type": "code",
   "execution_count": 294,
   "metadata": {},
   "outputs": [
    {
     "data": {
      "image/png": "[encoded data removed]",
      "text/plain": [
       "<Figure size 1000x600 with 1 Axes>"
      ]
     },
     "metadata": {},
     "output_type": "display_data"
    }
   ],
   "source": [
    "# Plot monthly sales trends\n",
    "plt.figure(figsize=(10, 6))\n",
    "monthly_sales.plot(title='Monthly Sales Trend')\n",
    "plt.xlabel('Month')\n",
    "plt.ylabel('Total Sales')\n",
    "plt.show()"
   ]
  },
  {
   "cell_type": "code",
   "execution_count": 295,
   "metadata": {},
   "outputs": [
    {
     "name": "stdout",
     "output_type": "stream",
     "text": [
      "Highest Sales Month: 2011-11-30 00:00:00\n",
      "Lowest Sales Month: 2011-02-28 00:00:00\n"
     ]
    }
   ],
   "source": [
    " #Identify the month with the highest and lowest sales\n",
    "highest_sales_month = monthly_sales.idxmax()\n",
    "lowest_sales_month = monthly_sales.idxmin()\n",
    "print(f\"Highest Sales Month: {highest_sales_month}\")\n",
    "print(f\"Lowest Sales Month: {lowest_sales_month}\")"
   ]
  },
  {
   "cell_type": "markdown",
   "metadata": {
    "id": "y8SWC4Xc-mM0"
   },
   "source": [
    "# 🎯 **Task 4 : RFM Analysis (Customer Segmentation)** 🧩\n",
    "**Description**: Segment customers based on recency, frequency, and monetary value. Visualize customer distribution in segments.\n",
    "\n",
    "**Requirments**:\n",
    "-  Calculate recency (days since last purchase).\n",
    "-  Calculate frequency (number of purchases).\n",
    "-  Calculate monetary value (total spend).\n",
    "-  Segment customers into High, Medium, Low-value groups.\n",
    "\n"
   ]
  },
  {
   "cell_type": "code",
   "execution_count": 296,
   "metadata": {
    "id": "Ln6cjTTIZyjW"
   },
   "outputs": [],
   "source": [
    "# Calculate Recency, Frequency, and Monetary value\n",
    "snapshot_date = data_sales['InvoiceDate'].max() + dt.timedelta(days=1)\n",
    "rfm = data_sales.groupby('CustomerID').agg({\n",
    "    'InvoiceDate': lambda x: (snapshot_date - x.max()).days,\n",
    "    'InvoiceNo': 'nunique',\n",
    "    'TotalPrice': 'sum'\n",
    "})\n",
    "rfm.columns = ['Recency', 'Frequency', 'Monetary']"
   ]
  },
  {
   "cell_type": "code",
   "execution_count": 297,
   "metadata": {},
   "outputs": [
    {
     "name": "stdout",
     "output_type": "stream",
     "text": [
      "            Recency  Frequency  Monetary Segment\n",
      "CustomerID                                      \n",
      "12346.0         326          1  77183.60    High\n",
      "12347.0           2          7   4310.00    High\n",
      "12348.0          75          4   1797.24    High\n",
      "12349.0          19          1   1757.55    High\n",
      "12350.0         310          1    334.40     Low\n"
     ]
    }
   ],
   "source": [
    "# Segment customers\n",
    "rfm['Segment'] = pd.qcut(rfm['Monetary'], 3, labels=['Low', 'Medium', 'High'])\n",
    "print(rfm.head())"
   ]
  },
  {
   "cell_type": "markdown",
   "metadata": {
    "id": "45l4H7GY_O43"
   },
   "source": [
    "# 🎯 **Task 5 : Product Category Analysis** 📦💰\n",
    "**Description**: Analyze sales and revenue by product category and visualize the top categories by revenue.\n",
    "\n",
    "**Requirments**:\n",
    "-  Extract product category from Description.\n",
    "-  Calculate sales and revenue by category.\n",
    "-  Create a bar plot of the top 5 categories by revenue.\n",
    "\n"
   ]
  },
  {
   "cell_type": "code",
   "execution_count": 298,
   "metadata": {
    "id": "qZHqFV22ZzHt"
   },
   "outputs": [],
   "source": [
    "# Extract product category from Description\n",
    "data_sales['Category'] = data_sales['Description'].apply(lambda x: x.split()[0])"
   ]
  },
  {
   "cell_type": "code",
   "execution_count": 299,
   "metadata": {},
   "outputs": [],
   "source": [
    "# Calculate sales and revenue by category\n",
    "category_revenue = data_sales.groupby('Category')['TotalPrice'].sum().nlargest(5)"
   ]
  },
  {
   "cell_type": "code",
   "execution_count": 300,
   "metadata": {},
   "outputs": [
    {
     "data": {
      "image/png": "[encoded data removed]",
      "text/plain": [
       "<Figure size 640x480 with 1 Axes>"
      ]
     },
     "metadata": {},
     "output_type": "display_data"
    }
   ],
   "source": [
    "# Create a bar plot of the top 5 categories by revenue\n",
    "category_revenue.plot(kind='bar', title='Top 5 Categories by Revenue')\n",
    "plt.xlabel('Category')\n",
    "plt.ylabel('Revenue')\n",
    "plt.show()"
   ]
  },
  {
   "cell_type": "markdown",
   "metadata": {
    "id": "RPbpzMpA_vWu"
   },
   "source": [
    "# 🎯 **Task 6 : Geographical Analysis** 🌍📊\n",
    "**Description**: Analyze sales distribution by country and identify top revenue-generating countries.\n",
    "\n",
    "**Requirments**:\n",
    "-  Calculate total revenue by country.\n",
    "-  Create a bar plot of the top 10 countries by revenue.\n",
    "-  Calculate the percentage of sales from the top 3 countries.\n",
    "\n"
   ]
  },
  {
   "cell_type": "code",
   "execution_count": 301,
   "metadata": {
    "id": "_UVxLca9Zzog"
   },
   "outputs": [],
   "source": [
    "# Calculate total revenue by country\n",
    "country_revenue = data_sales.groupby('Country')['TotalPrice'].sum()"
   ]
  },
  {
   "cell_type": "code",
   "execution_count": 302,
   "metadata": {},
   "outputs": [
    {
     "data": {
      "image/png": "[encoded data removed]",
      "text/plain": [
       "<Figure size 640x480 with 1 Axes>"
      ]
     },
     "metadata": {},
     "output_type": "display_data"
    }
   ],
   "source": [
    "# Create a bar plot of the top 10 countries by revenue\n",
    "country_revenue.nlargest(10).plot(kind='bar', title='Top 10 Countries by Revenue')\n",
    "plt.xlabel('Country')\n",
    "plt.ylabel('Revenue')\n",
    "plt.show()"
   ]
  },
  {
   "cell_type": "code",
   "execution_count": 303,
   "metadata": {},
   "outputs": [
    {
     "name": "stdout",
     "output_type": "stream",
     "text": [
      "Percentage of Sales from Top 3 Countries: 89.94%\n"
     ]
    }
   ],
   "source": [
    "# Calculate the percentage of sales from the top 3 countries\n",
    "top_3_countries = country_revenue.nlargest(3).sum() / country_revenue.sum() * 100\n",
    "print(f\"Percentage of Sales from Top 3 Countries: {top_3_countries:.2f}%\")"
   ]
  },
  {
   "cell_type": "markdown",
   "metadata": {
    "id": "qKkQQ3qw__EH"
   },
   "source": [
    "# 🎯 **Task 7 : Customer Behavior Analysis** 👤🛒\n",
    "**Description**: Analyze customer behavior based on order quantity, sales, and purchasing patterns.\n",
    "\n",
    "**Requirments**:\n",
    "-  Plot the distribution of order quantities.\n",
    "-  Create a scatter plot of Quantity vs. TotalPrice.\n",
    "-  Calculate and plot average daily sales throughout the week.\n",
    "\n"
   ]
  },
  {
   "cell_type": "code",
   "execution_count": 304,
   "metadata": {
    "id": "Gczn1T55Z0M9"
   },
   "outputs": [
    {
     "data": {
      "image/png": "[encoded data removed]",
      "text/plain": [
       "<Figure size 640x480 with 1 Axes>"
      ]
     },
     "metadata": {},
     "output_type": "display_data"
    }
   ],
   "source": [
    "# Plot the distribution of order quantities\n",
    "data_sales['Quantity'].plot(kind='hist', bins=30, title='Distribution of Order Quantities')\n",
    "plt.xlabel('Quantity')\n",
    "plt.show()\n"
   ]
  },
  {
   "cell_type": "code",
   "execution_count": 305,
   "metadata": {},
   "outputs": [
    {
     "data": {
      "image/png": "[encoded data removed]",
      "text/plain": [
       "<Figure size 640x480 with 1 Axes>"
      ]
     },
     "metadata": {},
     "output_type": "display_data"
    }
   ],
   "source": [
    "# Create a scatter plot of Quantity vs. TotalPrice\n",
    "data_sales.plot.scatter(x='Quantity', y='TotalPrice', title='Quantity vs. TotalPrice')\n",
    "plt.show()"
   ]
  },
  {
   "cell_type": "code",
   "execution_count": 306,
   "metadata": {},
   "outputs": [
    {
     "data": {
      "image/png": "[encoded data removed]",
      "text/plain": [
       "<Figure size 640x480 with 1 Axes>"
      ]
     },
     "metadata": {},
     "output_type": "display_data"
    }
   ],
   "source": [
    "# Calculate and plot average daily sales throughout the week\n",
    "data_sales['DayOfWeek'] = data_sales['InvoiceDate'].dt.day_name()\n",
    "average_daily_sales = data_sales.groupby('DayOfWeek')['TotalPrice'].mean()\n",
    "average_daily_sales.plot(kind='bar', title='Average Daily Sales')\n",
    "plt.xlabel('Day of the Week')\n",
    "plt.xticks(rotation=45)\n",
    "plt.ylabel('Average Sales')\n",
    "plt.show()"
   ]
  },
  {
   "cell_type": "markdown",
   "metadata": {
    "id": "gzp7qq_jAMhw"
   },
   "source": [
    "# 🎯 **Task 8 : Moving Average Forecast** 📉🔮\n",
    "**Description**: Implement a basic moving average forecast for sales based on past data.\n",
    "\n",
    "**Requirments**:\n",
    "-  Prepare daily sales data.\n",
    "-  Calculate a 7-day moving average of sales.\n",
    "-  Plot actual sales vs. moving average for the last 3 months.\n"
   ]
  },
  {
   "cell_type": "code",
   "execution_count": 307,
   "metadata": {
    "id": "1yhjEZsOAYE3"
   },
   "outputs": [],
   "source": [
    "# Prepare daily sales data\n",
    "daily_sales = data_sales.resample('D', on='InvoiceDate')['TotalPrice'].sum()"
   ]
  },
  {
   "cell_type": "code",
   "execution_count": 308,
   "metadata": {},
   "outputs": [],
   "source": [
    "# Calculate a 7-day moving average of sales\n",
    "moving_average = daily_sales.rolling(window=7).mean()\n"
   ]
  },
  {
   "cell_type": "code",
   "execution_count": 309,
   "metadata": {},
   "outputs": [
    {
     "data": {
      "application/vnd.plotly.v1+json": {
       "config": {
        "plotlyServerURL": "https://plot.ly"
       },
       "data": [
        {
         "mode": "lines",
         "name": "Actual Sales",
         "type": "scatter",
         "x": [
          "2010-12-01T00:00:00",
          "2010-12-02T00:00:00",
          "2010-12-03T00:00:00",
          "2010-12-04T00:00:00",
          "2010-12-05T00:00:00",
          "2010-12-06T00:00:00",
          "2010-12-07T00:00:00",
          "2010-12-08T00:00:00",
          "2010-12-09T00:00:00",
          "2010-12-10T00:00:00",
          "2010-12-11T00:00:00",
          "2010-12-12T00:00:00",
          "2010-12-13T00:00:00",
          "2010-12-14T00:00:00",
          "2010-12-15T00:00:00",
          "2010-12-16T00:00:00",
          "2010-12-17T00:00:00",
          "2010-12-18T00:00:00",
          "2010-12-19T00:00:00",
          "2010-12-20T00:00:00",
          "2010-12-21T00:00:00",
          "2010-12-22T00:00:00",
          "2010-12-23T00:00:00",
          "2010-12-24T00:00:00",
          "2010-12-25T00:00:00",
          "2010-12-26T00:00:00",
          "2010-12-27T00:00:00",
          "2010-12-28T00:00:00",
          "2010-12-29T00:00:00",
          "2010-12-30T00:00:00",
          "2010-12-31T00:00:00",
          "2011-01-01T00:00:00",
          "2011-01-02T00:00:00",
          "2011-01-03T00:00:00",
          "2011-01-04T00:00:00",
          "2011-01-05T00:00:00",
          "2011-01-06T00:00:00",
          "2011-01-07T00:00:00",
          "2011-01-08T00:00:00",
          "2011-01-09T00:00:00",
          "2011-01-10T00:00:00",
          "2011-01-11T00:00:00",
          "2011-01-12T00:00:00",
          "2011-01-13T00:00:00",
          "2011-01-14T00:00:00",
          "2011-01-15T00:00:00",
          "2011-01-16T00:00:00",
          "2011-01-17T00:00:00",
          "2011-01-18T00:00:00",
          "2011-01-19T00:00:00",
          "2011-01-20T00:00:00",
          "2011-01-21T00:00:00",
          "2011-01-22T00:00:00",
          "2011-01-23T00:00:00",
          "2011-01-24T00:00:00",
          "2011-01-25T00:00:00",
          "2011-01-26T00:00:00",
          "2011-01-27T00:00:00",
          "2011-01-28T00:00:00",
          "2011-01-29T00:00:00",
          "2011-01-30T00:00:00",
          "2011-01-31T00:00:00",
          "2011-02-01T00:00:00",
          "2011-02-02T00:00:00",
          "2011-02-03T00:00:00",
          "2011-02-04T00:00:00",
          "2011-02-05T00:00:00",
          "2011-02-06T00:00:00",
          "2011-02-07T00:00:00",
          "2011-02-08T00:00:00",
          "2011-02-09T00:00:00",
          "2011-02-10T00:00:00",
          "2011-02-11T00:00:00",
          "2011-02-12T00:00:00",
          "2011-02-13T00:00:00",
          "2011-02-14T00:00:00",
          "2011-02-15T00:00:00",
          "2011-02-16T00:00:00",
          "2011-02-17T00:00:00",
          "2011-02-18T00:00:00",
          "2011-02-19T00:00:00",
          "2011-02-20T00:00:00",
          "2011-02-21T00:00:00",
          "2011-02-22T00:00:00",
          "2011-02-23T00:00:00",
          "2011-02-24T00:00:00",
          "2011-02-25T00:00:00",
          "2011-02-26T00:00:00",
          "2011-02-27T00:00:00",
          "2011-02-28T00:00:00",
          "2011-03-01T00:00:00",
          "2011-03-02T00:00:00",
          "2011-03-03T00:00:00",
          "2011-03-04T00:00:00",
          "2011-03-05T00:00:00",
          "2011-03-06T00:00:00",
          "2011-03-07T00:00:00",
          "2011-03-08T00:00:00",
          "2011-03-09T00:00:00",
          "2011-03-10T00:00:00",
          "2011-03-11T00:00:00",
          "2011-03-12T00:00:00",
          "2011-03-13T00:00:00",
          "2011-03-14T00:00:00",
          "2011-03-15T00:00:00",
          "2011-03-16T00:00:00",
          "2011-03-17T00:00:00",
          "2011-03-18T00:00:00",
          "2011-03-19T00:00:00",
          "2011-03-20T00:00:00",
          "2011-03-21T00:00:00",
          "2011-03-22T00:00:00",
          "2011-03-23T00:00:00",
          "2011-03-24T00:00:00",
          "2011-03-25T00:00:00",
          "2011-03-26T00:00:00",
          "2011-03-27T00:00:00",
          "2011-03-28T00:00:00",
          "2011-03-29T00:00:00",
          "2011-03-30T00:00:00",
          "2011-03-31T00:00:00",
          "2011-04-01T00:00:00",
          "2011-04-02T00:00:00",
          "2011-04-03T00:00:00",
          "2011-04-04T00:00:00",
          "2011-04-05T00:00:00",
          "2011-04-06T00:00:00",
          "2011-04-07T00:00:00",
          "2011-04-08T00:00:00",
          "2011-04-09T00:00:00",
          "2011-04-10T00:00:00",
          "2011-04-11T00:00:00",
          "2011-04-12T00:00:00",
          "2011-04-13T00:00:00",
          "2011-04-14T00:00:00",
          "2011-04-15T00:00:00",
          "2011-04-16T00:00:00",
          "2011-04-17T00:00:00",
          "2011-04-18T00:00:00",
          "2011-04-19T00:00:00",
          "2011-04-20T00:00:00",
          "2011-04-21T00:00:00",
          "2011-04-22T00:00:00",
          "2011-04-23T00:00:00",
          "2011-04-24T00:00:00",
          "2011-04-25T00:00:00",
          "2011-04-26T00:00:00",
          "2011-04-27T00:00:00",
          "2011-04-28T00:00:00",
          "2011-04-29T00:00:00",
          "2011-04-30T00:00:00",
          "2011-05-01T00:00:00",
          "2011-05-02T00:00:00",
          "2011-05-03T00:00:00",
          "2011-05-04T00:00:00",
          "2011-05-05T00:00:00",
          "2011-05-06T00:00:00",
          "2011-05-07T00:00:00",
          "2011-05-08T00:00:00",
          "2011-05-09T00:00:00",
          "2011-05-10T00:00:00",
          "2011-05-11T00:00:00",
          "2011-05-12T00:00:00",
          "2011-05-13T00:00:00",
          "2011-05-14T00:00:00",
          "2011-05-15T00:00:00",
          "2011-05-16T00:00:00",
          "2011-05-17T00:00:00",
          "2011-05-18T00:00:00",
          "2011-05-19T00:00:00",
          "2011-05-20T00:00:00",
          "2011-05-21T00:00:00",
          "2011-05-22T00:00:00",
          "2011-05-23T00:00:00",
          "2011-05-24T00:00:00",
          "2011-05-25T00:00:00",
          "2011-05-26T00:00:00",
          "2011-05-27T00:00:00",
          "2011-05-28T00:00:00",
          "2011-05-29T00:00:00",
          "2011-05-30T00:00:00",
          "2011-05-31T00:00:00",
          "2011-06-01T00:00:00",
          "2011-06-02T00:00:00",
          "2011-06-03T00:00:00",
          "2011-06-04T00:00:00",
          "2011-06-05T00:00:00",
          "2011-06-06T00:00:00",
          "2011-06-07T00:00:00",
          "2011-06-08T00:00:00",
          "2011-06-09T00:00:00",
          "2011-06-10T00:00:00",
          "2011-06-11T00:00:00",
          "2011-06-12T00:00:00",
          "2011-06-13T00:00:00",
          "2011-06-14T00:00:00",
          "2011-06-15T00:00:00",
          "2011-06-16T00:00:00",
          "2011-06-17T00:00:00",
          "2011-06-18T00:00:00",
          "2011-06-19T00:00:00",
          "2011-06-20T00:00:00",
          "2011-06-21T00:00:00",
          "2011-06-22T00:00:00",
          "2011-06-23T00:00:00",
          "2011-06-24T00:00:00",
          "2011-06-25T00:00:00",
          "2011-06-26T00:00:00",
          "2011-06-27T00:00:00",
          "2011-06-28T00:00:00",
          "2011-06-29T00:00:00",
          "2011-06-30T00:00:00",
          "2011-07-01T00:00:00",
          "2011-07-02T00:00:00",
          "2011-07-03T00:00:00",
          "2011-07-04T00:00:00",
          "2011-07-05T00:00:00",
          "2011-07-06T00:00:00",
          "2011-07-07T00:00:00",
          "2011-07-08T00:00:00",
          "2011-07-09T00:00:00",
          "2011-07-10T00:00:00",
          "2011-07-11T00:00:00",
          "2011-07-12T00:00:00",
          "2011-07-13T00:00:00",
          "2011-07-14T00:00:00",
          "2011-07-15T00:00:00",
          "2011-07-16T00:00:00",
          "2011-07-17T00:00:00",
          "2011-07-18T00:00:00",
          "2011-07-19T00:00:00",
          "2011-07-20T00:00:00",
          "2011-07-21T00:00:00",
          "2011-07-22T00:00:00",
          "2011-07-23T00:00:00",
          "2011-07-24T00:00:00",
          "2011-07-25T00:00:00",
          "2011-07-26T00:00:00",
          "2011-07-27T00:00:00",
          "2011-07-28T00:00:00",
          "2011-07-29T00:00:00",
          "2011-07-30T00:00:00",
          "2011-07-31T00:00:00",
          "2011-08-01T00:00:00",
          "2011-08-02T00:00:00",
          "2011-08-03T00:00:00",
          "2011-08-04T00:00:00",
          "2011-08-05T00:00:00",
          "2011-08-06T00:00:00",
          "2011-08-07T00:00:00",
          "2011-08-08T00:00:00",
          "2011-08-09T00:00:00",
          "2011-08-10T00:00:00",
          "2011-08-11T00:00:00",
          "2011-08-12T00:00:00",
          "2011-08-13T00:00:00",
          "2011-08-14T00:00:00",
          "2011-08-15T00:00:00",
          "2011-08-16T00:00:00",
          "2011-08-17T00:00:00",
          "2011-08-18T00:00:00",
          "2011-08-19T00:00:00",
          "2011-08-20T00:00:00",
          "2011-08-21T00:00:00",
          "2011-08-22T00:00:00",
          "2011-08-23T00:00:00",
          "2011-08-24T00:00:00",
          "2011-08-25T00:00:00",
          "2011-08-26T00:00:00",
          "2011-08-27T00:00:00",
          "2011-08-28T00:00:00",
          "2011-08-29T00:00:00",
          "2011-08-30T00:00:00",
          "2011-08-31T00:00:00",
          "2011-09-01T00:00:00",
          "2011-09-02T00:00:00",
          "2011-09-03T00:00:00",
          "2011-09-04T00:00:00",
          "2011-09-05T00:00:00",
          "2011-09-06T00:00:00",
          "2011-09-07T00:00:00",
          "2011-09-08T00:00:00",
          "2011-09-09T00:00:00",
          "2011-09-10T00:00:00",
          "2011-09-11T00:00:00",
          "2011-09-12T00:00:00",
          "2011-09-13T00:00:00",
          "2011-09-14T00:00:00",
          "2011-09-15T00:00:00",
          "2011-09-16T00:00:00",
          "2011-09-17T00:00:00",
          "2011-09-18T00:00:00",
          "2011-09-19T00:00:00",
          "2011-09-20T00:00:00",
          "2011-09-21T00:00:00",
          "2011-09-22T00:00:00",
          "2011-09-23T00:00:00",
          "2011-09-24T00:00:00",
          "2011-09-25T00:00:00",
          "2011-09-26T00:00:00",
          "2011-09-27T00:00:00",
          "2011-09-28T00:00:00",
          "2011-09-29T00:00:00",
          "2011-09-30T00:00:00",
          "2011-10-01T00:00:00",
          "2011-10-02T00:00:00",
          "2011-10-03T00:00:00",
          "2011-10-04T00:00:00",
          "2011-10-05T00:00:00",
          "2011-10-06T00:00:00",
          "2011-10-07T00:00:00",
          "2011-10-08T00:00:00",
          "2011-10-09T00:00:00",
          "2011-10-10T00:00:00",
          "2011-10-11T00:00:00",
          "2011-10-12T00:00:00",
          "2011-10-13T00:00:00",
          "2011-10-14T00:00:00",
          "2011-10-15T00:00:00",
          "2011-10-16T00:00:00",
          "2011-10-17T00:00:00",
          "2011-10-18T00:00:00",
          "2011-10-19T00:00:00",
          "2011-10-20T00:00:00",
          "2011-10-21T00:00:00",
          "2011-10-22T00:00:00",
          "2011-10-23T00:00:00",
          "2011-10-24T00:00:00",
          "2011-10-25T00:00:00",
          "2011-10-26T00:00:00",
          "2011-10-27T00:00:00",
          "2011-10-28T00:00:00",
          "2011-10-29T00:00:00",
          "2011-10-30T00:00:00",
          "2011-10-31T00:00:00",
          "2011-11-01T00:00:00",
          "2011-11-02T00:00:00",
          "2011-11-03T00:00:00",
          "2011-11-04T00:00:00",
          "2011-11-05T00:00:00",
          "2011-11-06T00:00:00",
          "2011-11-07T00:00:00",
          "2011-11-08T00:00:00",
          "2011-11-09T00:00:00",
          "2011-11-10T00:00:00",
          "2011-11-11T00:00:00",
          "2011-11-12T00:00:00",
          "2011-11-13T00:00:00",
          "2011-11-14T00:00:00",
          "2011-11-15T00:00:00",
          "2011-11-16T00:00:00",
          "2011-11-17T00:00:00",
          "2011-11-18T00:00:00",
          "2011-11-19T00:00:00",
          "2011-11-20T00:00:00",
          "2011-11-21T00:00:00",
          "2011-11-22T00:00:00",
          "2011-11-23T00:00:00",
          "2011-11-24T00:00:00",
          "2011-11-25T00:00:00",
          "2011-11-26T00:00:00",
          "2011-11-27T00:00:00",
          "2011-11-28T00:00:00",
          "2011-11-29T00:00:00",
          "2011-11-30T00:00:00",
          "2011-12-01T00:00:00",
          "2011-12-02T00:00:00",
          "2011-12-03T00:00:00",
          "2011-12-04T00:00:00",
          "2011-12-05T00:00:00",
          "2011-12-06T00:00:00",
          "2011-12-07T00:00:00",
          "2011-12-08T00:00:00",
          "2011-12-09T00:00:00"
         ],
         "y": [
          58960.79,
          47748.38,
          46943.71,
          0,
          31774.95,
          54830.46,
          99618.2,
          45389.98,
          53586.18,
          59182.92,
          0,
          17329.07,
          38006.71,
          45254.73,
          30444.62,
          49352.9,
          45418.33,
          0,
          7534.91,
          26789.13,
          47304.090000000004,
          6199.97,
          12076.11,
          0,
          0,
          0,
          0,
          0,
          0,
          0,
          0,
          0,
          0,
          0,
          16026.08,
          32634.47,
          40382.85,
          28836.59,
          0,
          15778.2,
          24569.07,
          68655.59,
          24693.78,
          20624.64,
          47576.9,
          0,
          7242.06,
          29333.02,
          95978.05,
          25934.57,
          21246.99,
          32640.3,
          0,
          10400.25,
          25733.79,
          29077.47,
          19922.29,
          23730.84,
          20090.65,
          0,
          6615.75,
          23640.36,
          29034.99,
          21216.2,
          23479.83,
          25162.19,
          0,
          3457.11,
          25955.01,
          20949.92,
          16692.58,
          14896.460000000001,
          22873.1,
          0,
          5713.63,
          26703.51,
          39875.74,
          24949.1,
          26372.670000000002,
          16208.75,
          0,
          9624.69,
          36388.75,
          32498.35,
          26891.6,
          22809.84,
          20595.74,
          0,
          9526.5,
          21755.63,
          26354.96,
          18690.79,
          36404,
          19506.8,
          0,
          10005.37,
          32356.55,
          25081.62,
          22038.84,
          26120.22,
          25475.18,
          0,
          4148.12,
          26019.55,
          23493.49,
          21948.36,
          39904.94,
          28171.79,
          0,
          22153.49,
          16715.52,
          31515.579999999998,
          24091.67,
          36697.14,
          31394.21,
          0,
          9241.35,
          23176.72,
          70711.92,
          31885.28,
          34335.9,
          25667.510000000002,
          0,
          6943.15,
          33254.24,
          30144.77,
          17362.36,
          18512.89,
          25295.64,
          0,
          9913.98,
          22353.27,
          25570.3,
          24484.420000000002,
          36104.07,
          28334.121,
          0,
          12725.5,
          56026.18,
          24338.7,
          28670.47,
          32615.63,
          0,
          0,
          0,
          0,
          31047.43,
          25942.44,
          22501.55,
          0,
          0,
          6973.66,
          0,
          35229.41,
          27544.15,
          29174.29,
          36126.35,
          0,
          18867.4,
          27899.71,
          47819.98,
          33687.25,
          61903.09,
          30749.95,
          0,
          9924.28,
          39651.28,
          55151.99,
          34483.44,
          35599.35,
          26718.17,
          0,
          24231.09,
          34685.6,
          37660.04,
          24408.12,
          33497.03,
          28442.03,
          0,
          7394.3,
          0,
          22714.06,
          20595.69,
          32826.14,
          16913.25,
          0,
          25639.54,
          17789.07,
          37957.72,
          43264.33,
          46389.1,
          62234.439999999995,
          0,
          12517.06,
          22457.21,
          40474.01,
          49097.99,
          34584.68,
          21076.17,
          0,
          22442.18,
          37514.98,
          24784.37,
          21825.99,
          25242.82,
          19521.96,
          0,
          7082.49,
          17015.76,
          35607.32,
          22088.32,
          44797.31,
          13675.06,
          0,
          6032.39,
          44652.83,
          40758.43,
          26387.54,
          32445.71,
          27082.1,
          0,
          5993.87,
          22605.02,
          26262.55,
          22641.94,
          33602.13,
          14836.43,
          0,
          17194.56,
          38831.61,
          50182.83,
          33308.24,
          32818.54,
          20124.86,
          0,
          27099.46,
          26887.15,
          21644.261,
          25602.93,
          56269.74,
          18790.4,
          0,
          33490.61,
          21388.92,
          26580.6,
          28113.14,
          65502.21,
          21538.58,
          0,
          7578.91,
          23377.65,
          27679.44,
          28792.34,
          72433.79,
          32231.35,
          0,
          5718.57,
          17243.97,
          19239.66,
          53499.96,
          54106.93,
          17349.59,
          0,
          14576.86,
          29651.46,
          25993.68,
          49035.36,
          23827.46,
          25626.44,
          0,
          10805.03,
          0,
          31866.31,
          25380.17,
          37370.15,
          42322.02,
          0,
          17119.59,
          37157.14,
          28349.91,
          34413.53,
          27195.8,
          30075.62,
          0,
          35511.67,
          29738.33,
          55117.05,
          23592.98,
          78218.95,
          27724.22,
          0,
          15745.73,
          49269.88,
          109612.03,
          48560.68,
          59354.79,
          40601.75,
          0,
          31372.661,
          29335.171,
          36322.95,
          43749.06,
          46401.45,
          44357.06,
          0,
          11634.53,
          66376.82,
          48810.65,
          75593.63,
          62891.19,
          53790.7,
          0,
          12524.4,
          48239.18,
          52572.94,
          32159.28,
          37446.18,
          36347.64,
          0,
          22010.96,
          52062.2,
          45332.16,
          42573.36,
          61122.9,
          63226.64,
          0,
          12339.16,
          48752.91,
          41314.64,
          38059.43,
          57291.72,
          40565.7,
          0,
          34571.23,
          57369.15,
          29155.15,
          45888.34,
          63561.49,
          62977.36,
          0,
          42946.340000000004,
          85881.81,
          57700.24,
          66127.57,
          71008.26,
          55257.17,
          0,
          34069.92,
          114419.89,
          60807.29,
          65958.17,
          61103.13,
          51275.39,
          0,
          35058.57,
          49805.72,
          64089.82,
          80104.18,
          50978.63,
          50822.73,
          0,
          20611.08,
          57165.19,
          72595.93,
          60126.96,
          52197.25,
          57664.07,
          0,
          24621.43,
          88741.96,
          56713.21,
          75439.16,
          82495,
          200920.6
         ]
        },
        {
         "mode": "lines",
         "name": "7-Day Moving Average",
         "type": "scatter",
         "x": [
          "2010-12-01T00:00:00",
          "2010-12-02T00:00:00",
          "2010-12-03T00:00:00",
          "2010-12-04T00:00:00",
          "2010-12-05T00:00:00",
          "2010-12-06T00:00:00",
          "2010-12-07T00:00:00",
          "2010-12-08T00:00:00",
          "2010-12-09T00:00:00",
          "2010-12-10T00:00:00",
          "2010-12-11T00:00:00",
          "2010-12-12T00:00:00",
          "2010-12-13T00:00:00",
          "2010-12-14T00:00:00",
          "2010-12-15T00:00:00",
          "2010-12-16T00:00:00",
          "2010-12-17T00:00:00",
          "2010-12-18T00:00:00",
          "2010-12-19T00:00:00",
          "2010-12-20T00:00:00",
          "2010-12-21T00:00:00",
          "2010-12-22T00:00:00",
          "2010-12-23T00:00:00",
          "2010-12-24T00:00:00",
          "2010-12-25T00:00:00",
          "2010-12-26T00:00:00",
          "2010-12-27T00:00:00",
          "2010-12-28T00:00:00",
          "2010-12-29T00:00:00",
          "2010-12-30T00:00:00",
          "2010-12-31T00:00:00",
          "2011-01-01T00:00:00",
          "2011-01-02T00:00:00",
          "2011-01-03T00:00:00",
          "2011-01-04T00:00:00",
          "2011-01-05T00:00:00",
          "2011-01-06T00:00:00",
          "2011-01-07T00:00:00",
          "2011-01-08T00:00:00",
          "2011-01-09T00:00:00",
          "2011-01-10T00:00:00",
          "2011-01-11T00:00:00",
          "2011-01-12T00:00:00",
          "2011-01-13T00:00:00",
          "2011-01-14T00:00:00",
          "2011-01-15T00:00:00",
          "2011-01-16T00:00:00",
          "2011-01-17T00:00:00",
          "2011-01-18T00:00:00",
          "2011-01-19T00:00:00",
          "2011-01-20T00:00:00",
          "2011-01-21T00:00:00",
          "2011-01-22T00:00:00",
          "2011-01-23T00:00:00",
          "2011-01-24T00:00:00",
          "2011-01-25T00:00:00",
          "2011-01-26T00:00:00",
          "2011-01-27T00:00:00",
          "2011-01-28T00:00:00",
          "2011-01-29T00:00:00",
          "2011-01-30T00:00:00",
          "2011-01-31T00:00:00",
          "2011-02-01T00:00:00",
          "2011-02-02T00:00:00",
          "2011-02-03T00:00:00",
          "2011-02-04T00:00:00",
          "2011-02-05T00:00:00",
          "2011-02-06T00:00:00",
          "2011-02-07T00:00:00",
          "2011-02-08T00:00:00",
          "2011-02-09T00:00:00",
          "2011-02-10T00:00:00",
          "2011-02-11T00:00:00",
          "2011-02-12T00:00:00",
          "2011-02-13T00:00:00",
          "2011-02-14T00:00:00",
          "2011-02-15T00:00:00",
          "2011-02-16T00:00:00",
          "2011-02-17T00:00:00",
          "2011-02-18T00:00:00",
          "2011-02-19T00:00:00",
          "2011-02-20T00:00:00",
          "2011-02-21T00:00:00",
          "2011-02-22T00:00:00",
          "2011-02-23T00:00:00",
          "2011-02-24T00:00:00",
          "2011-02-25T00:00:00",
          "2011-02-26T00:00:00",
          "2011-02-27T00:00:00",
          "2011-02-28T00:00:00",
          "2011-03-01T00:00:00",
          "2011-03-02T00:00:00",
          "2011-03-03T00:00:00",
          "2011-03-04T00:00:00",
          "2011-03-05T00:00:00",
          "2011-03-06T00:00:00",
          "2011-03-07T00:00:00",
          "2011-03-08T00:00:00",
          "2011-03-09T00:00:00",
          "2011-03-10T00:00:00",
          "2011-03-11T00:00:00",
          "2011-03-12T00:00:00",
          "2011-03-13T00:00:00",
          "2011-03-14T00:00:00",
          "2011-03-15T00:00:00",
          "2011-03-16T00:00:00",
          "2011-03-17T00:00:00",
          "2011-03-18T00:00:00",
          "2011-03-19T00:00:00",
          "2011-03-20T00:00:00",
          "2011-03-21T00:00:00",
          "2011-03-22T00:00:00",
          "2011-03-23T00:00:00",
          "2011-03-24T00:00:00",
          "2011-03-25T00:00:00",
          "2011-03-26T00:00:00",
          "2011-03-27T00:00:00",
          "2011-03-28T00:00:00",
          "2011-03-29T00:00:00",
          "2011-03-30T00:00:00",
          "2011-03-31T00:00:00",
          "2011-04-01T00:00:00",
          "2011-04-02T00:00:00",
          "2011-04-03T00:00:00",
          "2011-04-04T00:00:00",
          "2011-04-05T00:00:00",
          "2011-04-06T00:00:00",
          "2011-04-07T00:00:00",
          "2011-04-08T00:00:00",
          "2011-04-09T00:00:00",
          "2011-04-10T00:00:00",
          "2011-04-11T00:00:00",
          "2011-04-12T00:00:00",
          "2011-04-13T00:00:00",
          "2011-04-14T00:00:00",
          "2011-04-15T00:00:00",
          "2011-04-16T00:00:00",
          "2011-04-17T00:00:00",
          "2011-04-18T00:00:00",
          "2011-04-19T00:00:00",
          "2011-04-20T00:00:00",
          "2011-04-21T00:00:00",
          "2011-04-22T00:00:00",
          "2011-04-23T00:00:00",
          "2011-04-24T00:00:00",
          "2011-04-25T00:00:00",
          "2011-04-26T00:00:00",
          "2011-04-27T00:00:00",
          "2011-04-28T00:00:00",
          "2011-04-29T00:00:00",
          "2011-04-30T00:00:00",
          "2011-05-01T00:00:00",
          "2011-05-02T00:00:00",
          "2011-05-03T00:00:00",
          "2011-05-04T00:00:00",
          "2011-05-05T00:00:00",
          "2011-05-06T00:00:00",
          "2011-05-07T00:00:00",
          "2011-05-08T00:00:00",
          "2011-05-09T00:00:00",
          "2011-05-10T00:00:00",
          "2011-05-11T00:00:00",
          "2011-05-12T00:00:00",
          "2011-05-13T00:00:00",
          "2011-05-14T00:00:00",
          "2011-05-15T00:00:00",
          "2011-05-16T00:00:00",
          "2011-05-17T00:00:00",
          "2011-05-18T00:00:00",
          "2011-05-19T00:00:00",
          "2011-05-20T00:00:00",
          "2011-05-21T00:00:00",
          "2011-05-22T00:00:00",
          "2011-05-23T00:00:00",
          "2011-05-24T00:00:00",
          "2011-05-25T00:00:00",
          "2011-05-26T00:00:00",
          "2011-05-27T00:00:00",
          "2011-05-28T00:00:00",
          "2011-05-29T00:00:00",
          "2011-05-30T00:00:00",
          "2011-05-31T00:00:00",
          "2011-06-01T00:00:00",
          "2011-06-02T00:00:00",
          "2011-06-03T00:00:00",
          "2011-06-04T00:00:00",
          "2011-06-05T00:00:00",
          "2011-06-06T00:00:00",
          "2011-06-07T00:00:00",
          "2011-06-08T00:00:00",
          "2011-06-09T00:00:00",
          "2011-06-10T00:00:00",
          "2011-06-11T00:00:00",
          "2011-06-12T00:00:00",
          "2011-06-13T00:00:00",
          "2011-06-14T00:00:00",
          "2011-06-15T00:00:00",
          "2011-06-16T00:00:00",
          "2011-06-17T00:00:00",
          "2011-06-18T00:00:00",
          "2011-06-19T00:00:00",
          "2011-06-20T00:00:00",
          "2011-06-21T00:00:00",
          "2011-06-22T00:00:00",
          "2011-06-23T00:00:00",
          "2011-06-24T00:00:00",
          "2011-06-25T00:00:00",
          "2011-06-26T00:00:00",
          "2011-06-27T00:00:00",
          "2011-06-28T00:00:00",
          "2011-06-29T00:00:00",
          "2011-06-30T00:00:00",
          "2011-07-01T00:00:00",
          "2011-07-02T00:00:00",
          "2011-07-03T00:00:00",
          "2011-07-04T00:00:00",
          "2011-07-05T00:00:00",
          "2011-07-06T00:00:00",
          "2011-07-07T00:00:00",
          "2011-07-08T00:00:00",
          "2011-07-09T00:00:00",
          "2011-07-10T00:00:00",
          "2011-07-11T00:00:00",
          "2011-07-12T00:00:00",
          "2011-07-13T00:00:00",
          "2011-07-14T00:00:00",
          "2011-07-15T00:00:00",
          "2011-07-16T00:00:00",
          "2011-07-17T00:00:00",
          "2011-07-18T00:00:00",
          "2011-07-19T00:00:00",
          "2011-07-20T00:00:00",
          "2011-07-21T00:00:00",
          "2011-07-22T00:00:00",
          "2011-07-23T00:00:00",
          "2011-07-24T00:00:00",
          "2011-07-25T00:00:00",
          "2011-07-26T00:00:00",
          "2011-07-27T00:00:00",
          "2011-07-28T00:00:00",
          "2011-07-29T00:00:00",
          "2011-07-30T00:00:00",
          "2011-07-31T00:00:00",
          "2011-08-01T00:00:00",
          "2011-08-02T00:00:00",
          "2011-08-03T00:00:00",
          "2011-08-04T00:00:00",
          "2011-08-05T00:00:00",
          "2011-08-06T00:00:00",
          "2011-08-07T00:00:00",
          "2011-08-08T00:00:00",
          "2011-08-09T00:00:00",
          "2011-08-10T00:00:00",
          "2011-08-11T00:00:00",
          "2011-08-12T00:00:00",
          "2011-08-13T00:00:00",
          "2011-08-14T00:00:00",
          "2011-08-15T00:00:00",
          "2011-08-16T00:00:00",
          "2011-08-17T00:00:00",
          "2011-08-18T00:00:00",
          "2011-08-19T00:00:00",
          "2011-08-20T00:00:00",
          "2011-08-21T00:00:00",
          "2011-08-22T00:00:00",
          "2011-08-23T00:00:00",
          "2011-08-24T00:00:00",
          "2011-08-25T00:00:00",
          "2011-08-26T00:00:00",
          "2011-08-27T00:00:00",
          "2011-08-28T00:00:00",
          "2011-08-29T00:00:00",
          "2011-08-30T00:00:00",
          "2011-08-31T00:00:00",
          "2011-09-01T00:00:00",
          "2011-09-02T00:00:00",
          "2011-09-03T00:00:00",
          "2011-09-04T00:00:00",
          "2011-09-05T00:00:00",
          "2011-09-06T00:00:00",
          "2011-09-07T00:00:00",
          "2011-09-08T00:00:00",
          "2011-09-09T00:00:00",
          "2011-09-10T00:00:00",
          "2011-09-11T00:00:00",
          "2011-09-12T00:00:00",
          "2011-09-13T00:00:00",
          "2011-09-14T00:00:00",
          "2011-09-15T00:00:00",
          "2011-09-16T00:00:00",
          "2011-09-17T00:00:00",
          "2011-09-18T00:00:00",
          "2011-09-19T00:00:00",
          "2011-09-20T00:00:00",
          "2011-09-21T00:00:00",
          "2011-09-22T00:00:00",
          "2011-09-23T00:00:00",
          "2011-09-24T00:00:00",
          "2011-09-25T00:00:00",
          "2011-09-26T00:00:00",
          "2011-09-27T00:00:00",
          "2011-09-28T00:00:00",
          "2011-09-29T00:00:00",
          "2011-09-30T00:00:00",
          "2011-10-01T00:00:00",
          "2011-10-02T00:00:00",
          "2011-10-03T00:00:00",
          "2011-10-04T00:00:00",
          "2011-10-05T00:00:00",
          "2011-10-06T00:00:00",
          "2011-10-07T00:00:00",
          "2011-10-08T00:00:00",
          "2011-10-09T00:00:00",
          "2011-10-10T00:00:00",
          "2011-10-11T00:00:00",
          "2011-10-12T00:00:00",
          "2011-10-13T00:00:00",
          "2011-10-14T00:00:00",
          "2011-10-15T00:00:00",
          "2011-10-16T00:00:00",
          "2011-10-17T00:00:00",
          "2011-10-18T00:00:00",
          "2011-10-19T00:00:00",
          "2011-10-20T00:00:00",
          "2011-10-21T00:00:00",
          "2011-10-22T00:00:00",
          "2011-10-23T00:00:00",
          "2011-10-24T00:00:00",
          "2011-10-25T00:00:00",
          "2011-10-26T00:00:00",
          "2011-10-27T00:00:00",
          "2011-10-28T00:00:00",
          "2011-10-29T00:00:00",
          "2011-10-30T00:00:00",
          "2011-10-31T00:00:00",
          "2011-11-01T00:00:00",
          "2011-11-02T00:00:00",
          "2011-11-03T00:00:00",
          "2011-11-04T00:00:00",
          "2011-11-05T00:00:00",
          "2011-11-06T00:00:00",
          "2011-11-07T00:00:00",
          "2011-11-08T00:00:00",
          "2011-11-09T00:00:00",
          "2011-11-10T00:00:00",
          "2011-11-11T00:00:00",
          "2011-11-12T00:00:00",
          "2011-11-13T00:00:00",
          "2011-11-14T00:00:00",
          "2011-11-15T00:00:00",
          "2011-11-16T00:00:00",
          "2011-11-17T00:00:00",
          "2011-11-18T00:00:00",
          "2011-11-19T00:00:00",
          "2011-11-20T00:00:00",
          "2011-11-21T00:00:00",
          "2011-11-22T00:00:00",
          "2011-11-23T00:00:00",
          "2011-11-24T00:00:00",
          "2011-11-25T00:00:00",
          "2011-11-26T00:00:00",
          "2011-11-27T00:00:00",
          "2011-11-28T00:00:00",
          "2011-11-29T00:00:00",
          "2011-11-30T00:00:00",
          "2011-12-01T00:00:00",
          "2011-12-02T00:00:00",
          "2011-12-03T00:00:00",
          "2011-12-04T00:00:00",
          "2011-12-05T00:00:00",
          "2011-12-06T00:00:00",
          "2011-12-07T00:00:00",
          "2011-12-08T00:00:00",
          "2011-12-09T00:00:00"
         ],
         "y": [
          null,
          null,
          null,
          null,
          null,
          null,
          48553.78428571428,
          46615.09714285714,
          47449.06857142857,
          49197.52714285714,
          49197.52714285714,
          47133.83,
          44730.43714285714,
          36964.22714285714,
          34829.17571428571,
          34224.42142857143,
          32258.05142857143,
          32258.051428571427,
          30858.885714285716,
          29256.374285714286,
          29549.140000000003,
          26085.618571428575,
          20760.362857142853,
          14272.03,
          14272.03,
          13195.614285714286,
          9368.595714285717,
          2610.8685714285716,
          1725.1585714285716,
          0,
          0,
          0,
          0,
          0,
          2289.44,
          6951.507142857144,
          12720.485714285713,
          16839.998571428572,
          16839.998571428572,
          19094.027142857143,
          22603.894285714287,
          30122.395714285718,
          28988.011428571426,
          26165.41,
          28842.597142857147,
          28842.597142857147,
          27623.148571428574,
          28303.712857142855,
          32206.92142857143,
          32384.177142857145,
          32473.08428571429,
          30339.284285714286,
          30339.284285714286,
          30790.454285714284,
          30276.278571428575,
          20719.052857142855,
          19860.155714285713,
          20214.99142857143,
          18422.184285714287,
          18422.184285714287,
          17881.54142857143,
          17582.48,
          17576.411428571428,
          17761.255714285715,
          17725.397142857146,
          18449.902857142857,
          18449.902857142857,
          17998.66857142857,
          18329.332857142857,
          17174.322857142855,
          16528.091428571428,
          15301.895714285713,
          14974.882857142857,
          14974.882857142857,
          15297.242857142859,
          15404.171428571428,
          18107.859999999997,
          19287.362857142853,
          20926.821428571428,
          19974.77142857143,
          19974.77142857143,
          20533.494285714285,
          21917.100000000002,
          20863.187142857143,
          21140.687142857143,
          20631.71142857143,
          21258.424285714285,
          21258.424285714285,
          21244.397142857142,
          19153.95142857143,
          18276.324285714283,
          17104.780000000002,
          19046.802857142855,
          18891.239999999998,
          18891.239999999998,
          18959.65,
          20474.067142857144,
          20292.161428571428,
          20770.454285714284,
          19301.342857142856,
          20153.96857142857,
          20153.96857142857,
          19317.21857142857,
          18411.932857142856,
          18185.057142857146,
          18172.13142857143,
          20141.377142857145,
          20526.60714285714,
          20526.60714285714,
          23098.802857142862,
          21769.655714285713,
          22915.66857142857,
          23221.855714285717,
          22763.59857142857,
          23223.944285714282,
          23223.944285714282,
          21379.352857142858,
          22302.38142857143,
          27901.858571428573,
          29015.231428571427,
          28677.911428571428,
          27859.81142857143,
          27859.81142857143,
          27531.497142857144,
          28971.14285714286,
          23175.835714285717,
          21101.132857142857,
          18840.70285714286,
          18787.57857142857,
          18787.57857142857,
          19211.98285714286,
          17654.70142857143,
          17001.205714285716,
          18018.64285714286,
          20531.66857142857,
          20965.737285714284,
          20965.737285714284,
          21367.382999999998,
          26177.798714285713,
          26001.85585714286,
          26599.863,
          26101.51442857143,
          22053.782857142858,
          22053.782857142858,
          20235.854285714286,
          12232.114285714288,
          13190.504285714285,
          12800.785714285714,
          11355.917142857143,
          11355.917142857143,
          11355.917142857143,
          12352.154285714287,
          12352.154285714287,
          12949.58,
          13178.395714285714,
          14131.644285714287,
          19292.551428571427,
          19292.551428571427,
          20991.657142857144,
          24977.329999999998,
          26775.98285714286,
          27653.568571428572,
          32329.11142857143,
          31561.054285714286,
          31561.054285714286,
          30283.465714285714,
          31962.26142857143,
          33009.69142857143,
          33123.432857142856,
          29365.755714285715,
          28789.787142857145,
          28789.787142857145,
          30833.617142857143,
          30124.234285714287,
          27625.384285714284,
          26186.052857142855,
          25885.721428571425,
          26131.987142857146,
          26131.987142857146,
          23726.73142857143,
          18771.645714285718,
          16636.505714285715,
          16091.87285714286,
          15996.03142857143,
          14349.062857142859,
          14349.062857142859,
          16955.52571428572,
          19496.821428571428,
          21674.487142857146,
          24912.864285714288,
          26850.430000000004,
          33324.885714285716,
          33324.885714285716,
          31450.24571428572,
          32117.12285714286,
          32476.59285714286,
          33309.97285714286,
          31623.627142857145,
          25743.874285714286,
          25743.874285714286,
          27161.748571428576,
          29312.858571428573,
          27071.48142857143,
          23175.48142857143,
          21840.93,
          21618.900000000005,
          21618.900000000005,
          19424.658571428572,
          16496.198571428573,
          18042.33428571429,
          18079.81,
          20873.308571428573,
          20038.037142857145,
          20038.037142857145,
          19888.022857142863,
          23836.175714285717,
          24572.04857142857,
          25186.22285714286,
          23421.70857142857,
          25337,
          25337,
          25331.497142857144,
          22181.810000000005,
          20110.97,
          19575.884285714284,
          19741.087142857144,
          17991.705714285716,
          17991.705714285716,
          19591.804285714286,
          21909.888571428575,
          25327.071428571428,
          26850.828571428574,
          26738.887142857147,
          27494.377142857145,
          27494.377142857145,
          28909.36285714286,
          27203.01142857143,
          23126.073,
          22025.314428571433,
          25375.48585714286,
          25184.848714285716,
          25184.848714285712,
          26097.870142857144,
          25312.408714285713,
          26017.600000000002,
          26376.201428571432,
          27695.125714285714,
          28087.72285714286,
          28087.72285714286,
          24386.05142857143,
          24670.155714285716,
          24827.13285714286,
          24924.161428571435,
          25914.387142857147,
          27441.925714285717,
          27441.925714285717,
          27176.16285714286,
          26299.92285714286,
          25094.24,
          28623.9,
          26005.777142857143,
          23879.81142857143,
          23879.81142857143,
          25145.28142857143,
          26917.78,
          27882.640000000003,
          27244.840000000004,
          22919.20142857143,
          24101.608571428573,
          24101.608571428573,
          23562.77571428572,
          19326.852857142858,
          20165.8,
          16786.487142857142,
          18721.157142857144,
          21106.24,
          21106.24,
          22008.320000000003,
          27316.48285714286,
          26814.140000000003,
          28104.620000000003,
          26651.14142857143,
          24901.655714285716,
          24901.655714285716,
          27529.09571428572,
          26469.265714285717,
          30293.14285714286,
          28747.350000000002,
          36036.37142857143,
          35700.45714285714,
          35700.45714285714,
          32876.75142857143,
          35666.97285714286,
          43451.97000000001,
          47018.78428571429,
          44323.904285714285,
          46163.55142857142,
          46163.55142857142,
          48395.97014285715,
          45548.15457142857,
          35078.28600000001,
          34390.911714285714,
          32540.434571428574,
          33076.90742857143,
          33076.90742857143,
          30257.174428571427,
          35548.83857142857,
          37332.79571428571,
          41882.020000000004,
          44237.69714285714,
          45585.36,
          45585.36,
          45712.48428571429,
          43121.392857142855,
          43658.86285714286,
          37453.955714285716,
          33818.95428571429,
          31327.088571428572,
          31327.088571428572,
          32682.31142857143,
          33228.45714285714,
          32194.059999999998,
          33681.78571428572,
          37064.17428571429,
          40904.03142857143,
          40904.03142857143,
          39522.34571428572,
          39049.590000000004,
          38475.65857142857,
          37830.811428571425,
          37283.5,
          34046.22285714286,
          34046.22285714286,
          37222.23285714286,
          38453.124285714286,
          36716.05428571429,
          37834.47000000001,
          38730.15142857143,
          41931.81714285714,
          41931.81714285714,
          43128.26142857143,
          47201.49857142857,
          51279.36857142857,
          54170.68714285714,
          55234.51142857143,
          54131.62714285714,
          54131.62714285714,
          52863.56714285714,
          56940.43571428571,
          57384.299999999996,
          57360.09999999999,
          55945.08142857142,
          55376.25571428571,
          55376.25571428571,
          55517.491428571426,
          46286.89571428572,
          46755.82857142857,
          48776.68714285714,
          47330.33,
          47265.66428571428,
          47265.66428571428,
          45201.73714285714,
          46253.090000000004,
          47468.24857142857,
          44614.36,
          44788.44857142858,
          45765.782857142854,
          45765.782857142854,
          46338.69,
          50849.65714285714,
          48580.69714285714,
          50768.15428571428,
          55096.40428571428,
          75561.62285714287
         ]
        }
       ],
       "layout": {
        "hovermode": "x unified",
        "legend": {
         "title": {
          "text": "Legend"
         }
        },
        "template": {
         "data": {
          "bar": [
           {
            "error_x": {
             "color": "#2a3f5f"
            },
            "error_y": {
             "color": "#2a3f5f"
            },
            "marker": {
             "line": {
              "color": "#E5ECF6",
              "width": 0.5
             },
             "pattern": {
              "fillmode": "overlay",
              "size": 10,
              "solidity": 0.2
             }
            },
            "type": "bar"
           }
          ],
          "barpolar": [
           {
            "marker": {
             "line": {
              "color": "#E5ECF6",
              "width": 0.5
             },
             "pattern": {
              "fillmode": "overlay",
              "size": 10,
              "solidity": 0.2
             }
            },
            "type": "barpolar"
           }
          ],
          "carpet": [
           {
            "aaxis": {
             "endlinecolor": "#2a3f5f",
             "gridcolor": "white",
             "linecolor": "white",
             "minorgridcolor": "white",
             "startlinecolor": "#2a3f5f"
            },
            "baxis": {
             "endlinecolor": "#2a3f5f",
             "gridcolor": "white",
             "linecolor": "white",
             "minorgridcolor": "white",
             "startlinecolor": "#2a3f5f"
            },
            "type": "carpet"
           }
          ],
          "choropleth": [
           {
            "colorbar": {
             "outlinewidth": 0,
             "ticks": ""
            },
            "type": "choropleth"
           }
          ],
          "contour": [
           {
            "colorbar": {
             "outlinewidth": 0,
             "ticks": ""
            },
            "colorscale": [
             [
              0,
              "#0d0887"
             ],
             [
              0.1111111111111111,
              "#46039f"
             ],
             [
              0.2222222222222222,
              "#7201a8"
             ],
             [
              0.3333333333333333,
              "#9c179e"
             ],
             [
              0.4444444444444444,
              "#bd3786"
             ],
             [
              0.5555555555555556,
              "#d8576b"
             ],
             [
              0.6666666666666666,
              "#ed7953"
             ],
             [
              0.7777777777777778,
              "#fb9f3a"
             ],
             [
              0.8888888888888888,
              "#fdca26"
             ],
             [
              1,
              "#f0f921"
             ]
            ],
            "type": "contour"
           }
          ],
          "contourcarpet": [
           {
            "colorbar": {
             "outlinewidth": 0,
             "ticks": ""
            },
            "type": "contourcarpet"
           }
          ],
          "heatmap": [
           {
            "colorbar": {
             "outlinewidth": 0,
             "ticks": ""
            },
            "colorscale": [
             [
              0,
              "#0d0887"
             ],
             [
              0.1111111111111111,
              "#46039f"
             ],
             [
              0.2222222222222222,
              "#7201a8"
             ],
             [
              0.3333333333333333,
              "#9c179e"
             ],
             [
              0.4444444444444444,
              "#bd3786"
             ],
             [
              0.5555555555555556,
              "#d8576b"
             ],
             [
              0.6666666666666666,
              "#ed7953"
             ],
             [
              0.7777777777777778,
              "#fb9f3a"
             ],
             [
              0.8888888888888888,
              "#fdca26"
             ],
             [
              1,
              "#f0f921"
             ]
            ],
            "type": "heatmap"
           }
          ],
          "heatmapgl": [
           {
            "colorbar": {
             "outlinewidth": 0,
             "ticks": ""
            },
            "colorscale": [
             [
              0,
              "#0d0887"
             ],
             [
              0.1111111111111111,
              "#46039f"
             ],
             [
              0.2222222222222222,
              "#7201a8"
             ],
             [
              0.3333333333333333,
              "#9c179e"
             ],
             [
              0.4444444444444444,
              "#bd3786"
             ],
             [
              0.5555555555555556,
              "#d8576b"
             ],
             [
              0.6666666666666666,
              "#ed7953"
             ],
             [
              0.7777777777777778,
              "#fb9f3a"
             ],
             [
              0.8888888888888888,
              "#fdca26"
             ],
             [
              1,
              "#f0f921"
             ]
            ],
            "type": "heatmapgl"
           }
          ],
          "histogram": [
           {
            "marker": {
             "pattern": {
              "fillmode": "overlay",
              "size": 10,
              "solidity": 0.2
             }
            },
            "type": "histogram"
           }
          ],
          "histogram2d": [
           {
            "colorbar": {
             "outlinewidth": 0,
             "ticks": ""
            },
            "colorscale": [
             [
              0,
              "#0d0887"
             ],
             [
              0.1111111111111111,
              "#46039f"
             ],
             [
              0.2222222222222222,
              "#7201a8"
             ],
             [
              0.3333333333333333,
              "#9c179e"
             ],
             [
              0.4444444444444444,
              "#bd3786"
             ],
             [
              0.5555555555555556,
              "#d8576b"
             ],
             [
              0.6666666666666666,
              "#ed7953"
             ],
             [
              0.7777777777777778,
              "#fb9f3a"
             ],
             [
              0.8888888888888888,
              "#fdca26"
             ],
             [
              1,
              "#f0f921"
             ]
            ],
            "type": "histogram2d"
           }
          ],
          "histogram2dcontour": [
           {
            "colorbar": {
             "outlinewidth": 0,
             "ticks": ""
            },
            "colorscale": [
             [
              0,
              "#0d0887"
             ],
             [
              0.1111111111111111,
              "#46039f"
             ],
             [
              0.2222222222222222,
              "#7201a8"
             ],
             [
              0.3333333333333333,
              "#9c179e"
             ],
             [
              0.4444444444444444,
              "#bd3786"
             ],
             [
              0.5555555555555556,
              "#d8576b"
             ],
             [
              0.6666666666666666,
              "#ed7953"
             ],
             [
              0.7777777777777778,
              "#fb9f3a"
             ],
             [
              0.8888888888888888,
              "#fdca26"
             ],
             [
              1,
              "#f0f921"
             ]
            ],
            "type": "histogram2dcontour"
           }
          ],
          "mesh3d": [
           {
            "colorbar": {
             "outlinewidth": 0,
             "ticks": ""
            },
            "type": "mesh3d"
           }
          ],
          "parcoords": [
           {
            "line": {
             "colorbar": {
              "outlinewidth": 0,
              "ticks": ""
             }
            },
            "type": "parcoords"
           }
          ],
          "pie": [
           {
            "automargin": true,
            "type": "pie"
           }
          ],
          "scatter": [
           {
            "fillpattern": {
             "fillmode": "overlay",
             "size": 10,
             "solidity": 0.2
            },
            "type": "scatter"
           }
          ],
          "scatter3d": [
           {
            "line": {
             "colorbar": {
              "outlinewidth": 0,
              "ticks": ""
             }
            },
            "marker": {
             "colorbar": {
              "outlinewidth": 0,
              "ticks": ""
             }
            },
            "type": "scatter3d"
           }
          ],
          "scattercarpet": [
           {
            "marker": {
             "colorbar": {
              "outlinewidth": 0,
              "ticks": ""
             }
            },
            "type": "scattercarpet"
           }
          ],
          "scattergeo": [
           {
            "marker": {
             "colorbar": {
              "outlinewidth": 0,
              "ticks": ""
             }
            },
            "type": "scattergeo"
           }
          ],
          "scattergl": [
           {
            "marker": {
             "colorbar": {
              "outlinewidth": 0,
              "ticks": ""
             }
            },
            "type": "scattergl"
           }
          ],
          "scattermapbox": [
           {
            "marker": {
             "colorbar": {
              "outlinewidth": 0,
              "ticks": ""
             }
            },
            "type": "scattermapbox"
           }
          ],
          "scatterpolar": [
           {
            "marker": {
             "colorbar": {
              "outlinewidth": 0,
              "ticks": ""
             }
            },
            "type": "scatterpolar"
           }
          ],
          "scatterpolargl": [
           {
            "marker": {
             "colorbar": {
              "outlinewidth": 0,
              "ticks": ""
             }
            },
            "type": "scatterpolargl"
           }
          ],
          "scatterternary": [
           {
            "marker": {
             "colorbar": {
              "outlinewidth": 0,
              "ticks": ""
             }
            },
            "type": "scatterternary"
           }
          ],
          "surface": [
           {
            "colorbar": {
             "outlinewidth": 0,
             "ticks": ""
            },
            "colorscale": [
             [
              0,
              "#0d0887"
             ],
             [
              0.1111111111111111,
              "#46039f"
             ],
             [
              0.2222222222222222,
              "#7201a8"
             ],
             [
              0.3333333333333333,
              "#9c179e"
             ],
             [
              0.4444444444444444,
              "#bd3786"
             ],
             [
              0.5555555555555556,
              "#d8576b"
             ],
             [
              0.6666666666666666,
              "#ed7953"
             ],
             [
              0.7777777777777778,
              "#fb9f3a"
             ],
             [
              0.8888888888888888,
              "#fdca26"
             ],
             [
              1,
              "#f0f921"
             ]
            ],
            "type": "surface"
           }
          ],
          "table": [
           {
            "cells": {
             "fill": {
              "color": "#EBF0F8"
             },
             "line": {
              "color": "white"
             }
            },
            "header": {
             "fill": {
              "color": "#C8D4E3"
             },
             "line": {
              "color": "white"
             }
            },
            "type": "table"
           }
          ]
         },
         "layout": {
          "annotationdefaults": {
           "arrowcolor": "#2a3f5f",
           "arrowhead": 0,
           "arrowwidth": 1
          },
          "autotypenumbers": "strict",
          "coloraxis": {
           "colorbar": {
            "outlinewidth": 0,
            "ticks": ""
           }
          },
          "colorscale": {
           "diverging": [
            [
             0,
             "#8e0152"
            ],
            [
             0.1,
             "#c51b7d"
            ],
            [
             0.2,
             "#de77ae"
            ],
            [
             0.3,
             "#f1b6da"
            ],
            [
             0.4,
             "#fde0ef"
            ],
            [
             0.5,
             "#f7f7f7"
            ],
            [
             0.6,
             "#e6f5d0"
            ],
            [
             0.7,
             "#b8e186"
            ],
            [
             0.8,
             "#7fbc41"
            ],
            [
             0.9,
             "#4d9221"
            ],
            [
             1,
             "#276419"
            ]
           ],
           "sequential": [
            [
             0,
             "#0d0887"
            ],
            [
             0.1111111111111111,
             "#46039f"
            ],
            [
             0.2222222222222222,
             "#7201a8"
            ],
            [
             0.3333333333333333,
             "#9c179e"
            ],
            [
             0.4444444444444444,
             "#bd3786"
            ],
            [
             0.5555555555555556,
             "#d8576b"
            ],
            [
             0.6666666666666666,
             "#ed7953"
            ],
            [
             0.7777777777777778,
             "#fb9f3a"
            ],
            [
             0.8888888888888888,
             "#fdca26"
            ],
            [
             1,
             "#f0f921"
            ]
           ],
           "sequentialminus": [
            [
             0,
             "#0d0887"
            ],
            [
             0.1111111111111111,
             "#46039f"
            ],
            [
             0.2222222222222222,
             "#7201a8"
            ],
            [
             0.3333333333333333,
             "#9c179e"
            ],
            [
             0.4444444444444444,
             "#bd3786"
            ],
            [
             0.5555555555555556,
             "#d8576b"
            ],
            [
             0.6666666666666666,
             "#ed7953"
            ],
            [
             0.7777777777777778,
             "#fb9f3a"
            ],
            [
             0.8888888888888888,
             "#fdca26"
            ],
            [
             1,
             "#f0f921"
            ]
           ]
          },
          "colorway": [
           "#636efa",
           "#EF553B",
           "#00cc96",
           "#ab63fa",
           "#FFA15A",
           "#19d3f3",
           "#FF6692",
           "#B6E880",
           "#FF97FF",
           "#FECB52"
          ],
          "font": {
           "color": "#2a3f5f"
          },
          "geo": {
           "bgcolor": "white",
           "lakecolor": "white",
           "landcolor": "#E5ECF6",
           "showlakes": true,
           "showland": true,
           "subunitcolor": "white"
          },
          "hoverlabel": {
           "align": "left"
          },
          "hovermode": "closest",
          "mapbox": {
           "style": "light"
          },
          "paper_bgcolor": "white",
          "plot_bgcolor": "#E5ECF6",
          "polar": {
           "angularaxis": {
            "gridcolor": "white",
            "linecolor": "white",
            "ticks": ""
           },
           "bgcolor": "#E5ECF6",
           "radialaxis": {
            "gridcolor": "white",
            "linecolor": "white",
            "ticks": ""
           }
          },
          "scene": {
           "xaxis": {
            "backgroundcolor": "#E5ECF6",
            "gridcolor": "white",
            "gridwidth": 2,
            "linecolor": "white",
            "showbackground": true,
            "ticks": "",
            "zerolinecolor": "white"
           },
           "yaxis": {
            "backgroundcolor": "#E5ECF6",
            "gridcolor": "white",
            "gridwidth": 2,
            "linecolor": "white",
            "showbackground": true,
            "ticks": "",
            "zerolinecolor": "white"
           },
           "zaxis": {
            "backgroundcolor": "#E5ECF6",
            "gridcolor": "white",
            "gridwidth": 2,
            "linecolor": "white",
            "showbackground": true,
            "ticks": "",
            "zerolinecolor": "white"
           }
          },
          "shapedefaults": {
           "line": {
            "color": "#2a3f5f"
           }
          },
          "ternary": {
           "aaxis": {
            "gridcolor": "white",
            "linecolor": "white",
            "ticks": ""
           },
           "baxis": {
            "gridcolor": "white",
            "linecolor": "white",
            "ticks": ""
           },
           "bgcolor": "#E5ECF6",
           "caxis": {
            "gridcolor": "white",
            "linecolor": "white",
            "ticks": ""
           }
          },
          "title": {
           "x": 0.05
          },
          "xaxis": {
           "automargin": true,
           "gridcolor": "white",
           "linecolor": "white",
           "ticks": "",
           "title": {
            "standoff": 15
           },
           "zerolinecolor": "white",
           "zerolinewidth": 2
          },
          "yaxis": {
           "automargin": true,
           "gridcolor": "white",
           "linecolor": "white",
           "ticks": "",
           "title": {
            "standoff": 15
           },
           "zerolinecolor": "white",
           "zerolinewidth": 2
          }
         }
        },
        "title": {
         "text": "Actual Sales vs. 7-Day Moving Average"
        },
        "xaxis": {
         "title": {
          "text": "Date"
         }
        },
        "yaxis": {
         "title": {
          "text": "Sales"
         }
        }
       }
      }
     },
     "metadata": {},
     "output_type": "display_data"
    }
   ],
   "source": [
    "# Create an interactive plot with Plotly\n",
    "fig = go.Figure()\n",
    "\n",
    "# Add actual sales trace\n",
    "fig.add_trace(go.Scatter(x=daily_sales.index, y=daily_sales, mode='lines', name='Actual Sales'))\n",
    "\n",
    "# Add moving average trace\n",
    "fig.add_trace(go.Scatter(x=moving_average.index, y=moving_average, mode='lines', name='7-Day Moving Average'))\n",
    "# Update layout\n",
    "fig.update_layout(\n",
    "    title='Actual Sales vs. 7-Day Moving Average',\n",
    "    xaxis_title='Date',\n",
    "    yaxis_title='Sales',\n",
    "    legend_title='Legend',\n",
    "    hovermode='x unified'\n",
    ")\n",
    "\n",
    "# Show the plot\n",
    "fig.show()"
   ]
  },
  {
   "cell_type": "markdown",
   "metadata": {
    "id": "-pwcEt5JAiQw"
   },
   "source": [
    "# 🎯 **Task 9 : Summary Dashboard Creation** 📊📺\n",
    "**Description**: Create a dashboard that summarizes key insights through visualizations.\n",
    "\n",
    "**Requirments**:\n",
    "\n",
    "Create a 2x2 subplot with:\n",
    "  1.   Monthly sales trend\n",
    "  2.   Top 5 products by revenue\n",
    "  3.   Customer segment distribution\n",
    "  4.   Top 5 countries by revenue.\n",
    "\n",
    "\n"
   ]
  },
  {
   "cell_type": "code",
   "execution_count": 310,
   "metadata": {
    "id": "RATay5wNA496"
   },
   "outputs": [
    {
     "data": {
      "image/png": "[encoded data removed]",
      "text/plain": [
       "<Figure size 1400x1000 with 4 Axes>"
      ]
     },
     "metadata": {},
     "output_type": "display_data"
    }
   ],
   "source": [
    "# Create a 2x2 subplot\n",
    "fig, axes = plt.subplots(2, 2, figsize=(14, 10))\n",
    "\n",
    "# Monthly sales trend\n",
    "monthly_sales.plot(ax=axes[0, 0], title='Monthly Sales Trend')\n",
    "axes[0, 0].set_xlabel('Month')\n",
    "axes[0, 0].set_ylabel('Total Sales')\n",
    "\n",
    "# Top 5 products by revenue\n",
    "top_products_revenue = data_sales.groupby('Description')['TotalPrice'].sum().nlargest(5)\n",
    "top_products_revenue.plot(kind='bar', ax=axes[0, 1], title='Top 5 Products by Revenue')\n",
    "axes[0, 1].set_xlabel('Product')\n",
    "axes[0, 1].set_ylabel('Revenue')\n",
    "\n",
    "# Customer segment distribution\n",
    "rfm['Segment'].value_counts().plot(kind='pie', ax=axes[1, 0], autopct='%1.1f%%', title='Customer Segment Distribution')\n",
    "\n",
    "# Top 5 countries by revenue\n",
    "country_revenue.nlargest(5).plot(kind='bar', ax=axes[1, 1], title='Top 5 Countries by Revenue')\n",
    "axes[1, 1].set_xlabel('Country')\n",
    "axes[1, 1].set_ylabel('Revenue')\n",
    "\n",
    "plt.tight_layout()\n",
    "plt.show()\n"
   ]
  },
  {
   "cell_type": "markdown",
   "metadata": {
    "id": "N7DfPkcyA58f"
   },
   "source": [
    "# 🎯 **Task 10 : Optimize Data Processing** ⚡💻\n",
    "**Description**: Optimize a computationally intensive task using vectorized operations.\n",
    "\n",
    "**Requirments**:\n",
    "-  Implement a task using loops.\n",
    "-  Implement the same task using vectorized operations.\n",
    "-  Compare and report performance differences.\n",
    "\n",
    "\n"
   ]
  },
  {
   "cell_type": "code",
   "execution_count": 311,
   "metadata": {
    "id": "5UyYOpRzZvB8"
   },
   "outputs": [
    {
     "name": "stdout",
     "output_type": "stream",
     "text": [
      "Loop Time: 19.529361486434937\n",
      "Vectorized Time: 0.002972841262817383\n",
      "Results are the same: True\n"
     ]
    }
   ],
   "source": [
    "# Task using loops\n",
    "start_time = time.time()\n",
    "total_price_loop = []\n",
    "for index, row in data_sales.iterrows():\n",
    "    total_price_loop.append(row['Quantity'] * row['UnitPrice'])\n",
    "print(\"Loop Time:\", time.time() - start_time)\n",
    "\n",
    "# Task using vectorized operations\n",
    "start_time = time.time()\n",
    "total_price_vectorized = data_sales['Quantity'] * data_sales['UnitPrice']\n",
    "print(\"Vectorized Time:\", time.time() - start_time)\n",
    "\n",
    "# Compare results\n",
    "print(\"Results are the same:\", np.allclose(total_price_loop, total_price_vectorized))"
   ]
  },
  {
   "cell_type": "markdown",
   "metadata": {
    "id": "voGEm4gkBVEh"
   },
   "source": [
    "# 🎯 **Task 11 : Report Generation** 📜📋\n",
    "**Description**: Generate a summary report with key insights and recommendations.\n",
    "\n",
    "**Requirments**:\n",
    "-  Summarize overall revenue, top-selling products, best customer segments, and countries.\n",
    "-  Provide insights from time series analysis and recommendations.\n",
    "\n",
    "\n"
   ]
  },
  {
   "cell_type": "code",
   "execution_count": 312,
   "metadata": {
    "id": "FRk1IzO2Zwd7"
   },
   "outputs": [
    {
     "name": "stdout",
     "output_type": "stream",
     "text": [
      "Summary Report\n",
      "--------------\n",
      "Total Revenue: 10666684.544\n",
      "Total Transactions: 19960\n",
      "Top-Selling Products:\n",
      "Description\n",
      "PAPER CRAFT , LITTLE BIRDIE           80995\n",
      "MEDIUM CERAMIC TOP STORAGE JAR        78033\n",
      "WORLD WAR 2 GLIDERS ASSTD DESIGNS     55047\n",
      "JUMBO BAG RED RETROSPOT               48474\n",
      "WHITE HANGING HEART T-LIGHT HOLDER    37891\n",
      "POPCORN HOLDER                        36761\n",
      "ASSORTED COLOUR BIRD ORNAMENT         36461\n",
      "PACK OF 72 RETROSPOT CAKE CASES       36419\n",
      "RABBIT NIGHT LIGHT                    30788\n",
      "MINI PAINT SET VINTAGE                26633\n",
      "Name: Quantity, dtype: int64\n",
      "Best Customer Segments:\n",
      "Segment\n",
      "High      1447\n",
      "Low       1446\n",
      "Medium    1446\n",
      "Name: count, dtype: int64\n",
      "Top Revenue-Generating Countries:\n",
      "Country\n",
      "United Kingdom    9025222.084\n",
      "Netherlands        285446.340\n",
      "EIRE               283453.960\n",
      "Germany            228867.140\n",
      "France             209715.110\n",
      "Name: TotalPrice, dtype: float64\n",
      "Insights from Time Series Analysis:\n",
      "Highest Sales Month: 2011-11-30 00:00:00\n",
      "Lowest Sales Month: 2011-02-28 00:00:00\n",
      "Recommendations:\n",
      "- Focus on high-value customer segments for targeted marketing.\n",
      "- Explore opportunities in top revenue-generating countries.\n",
      "- Monitor sales trends to optimize inventory and promotions.\n"
     ]
    }
   ],
   "source": [
    "# Summary report\n",
    "print(\"Summary Report\")\n",
    "print(\"--------------\")\n",
    "print(f\"Total Revenue: {total_revenue}\")\n",
    "print(f\"Total Transactions: {total_transactions}\")\n",
    "print(\"Top-Selling Products:\")\n",
    "print(top_products)\n",
    "print(\"Best Customer Segments:\")\n",
    "print(rfm['Segment'].value_counts())\n",
    "print(\"Top Revenue-Generating Countries:\")\n",
    "print(country_revenue.nlargest(5))\n",
    "print(\"Insights from Time Series Analysis:\")\n",
    "print(f\"Highest Sales Month: {highest_sales_month}\")\n",
    "print(f\"Lowest Sales Month: {lowest_sales_month}\")\n",
    "print(\"Recommendations:\")\n",
    "print(\"- Focus on high-value customer segments for targeted marketing.\")\n",
    "print(\"- Explore opportunities in top revenue-generating countries.\")\n",
    "print(\"- Monitor sales trends to optimize inventory and promotions.\")"
   ]
  }
 ],
 "metadata": {
  "colab": {
   "collapsed_sections": [
    "0jHJa-BQtq8X"
   ],
   "provenance": [],
   "toc_visible": true
  },
  "kernelspec": {
   "display_name": "Python 3",
   "language": "python",
   "name": "python3"
  },
  "language_info": {
   "codemirror_mode": {
    "name": "ipython",
    "version": 3
   },
   "file_extension": ".py",
   "mimetype": "text/x-python",
   "name": "python",
   "nbconvert_exporter": "python",
   "pygments_lexer": "ipython3",
   "version": "3.12.6"
  }
 },
 "nbformat": 4,
 "nbformat_minor": 4
}
