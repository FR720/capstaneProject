{
  "nbformat": 4,
  "nbformat_minor": 0,
  "metadata": {
    "colab": {
      "provenance": [],
      "toc_visible": true,
      "collapsed_sections": [
        "0jHJa-BQtq8X"
      ]
    },
    "kernelspec": {
      "name": "python3",
      "display_name": "Python 3"
    },
    "language_info": {
      "name": "python"
    }
  },
  "cells": [
    {
      "cell_type": "markdown",
      "source": [
        "# **Capstone Project: E-commerce Sales Analysis**: 🎓📊\n",
        "\n",
        "<h1 style=\"font-size: 50px; font-family: Arial, sans-serif; color: #4CAF50;\">\n",
        "  Team Information 👥\n",
        "\n",
        "</h1>\n",
        "\n",
        "---\n"
      ],
      "metadata": {
        "id": "Cyhl_w6pfxIL"
      }
    },
    {
      "cell_type": "markdown",
      "source": [
        "**Team 8** - Sprints Bootcamp\n",
        "\n",
        "**Team Members:**\n",
        "  ```\n",
        "Remas\n",
        "Menna Magdy Mohamed\n",
        "Ibrahim Abdel Basir Gomaa\n",
        "Fady Raouf\n",
        "Mohamed Alaa Farrag\n",
        "```\n",
        "\n",
        "\n"
      ],
      "metadata": {
        "id": "J9L1SypLkzJh"
      }
    },
    {
      "cell_type": "markdown",
      "source": [
        "# **Setting Up the Environment** 🛠️\n",
        "\n",
        "---\n",
        "\n"
      ],
      "metadata": {
        "id": "0jHJa-BQtq8X"
      }
    },
    {
      "cell_type": "code",
      "source": [],
      "metadata": {
        "id": "a5P4hFB2ilC5"
      },
      "execution_count": null,
      "outputs": []
    },
    {
      "cell_type": "markdown",
      "source": [
        "##Import libraries"
      ],
      "metadata": {
        "id": "w4G4CIhNty7a"
      }
    },
    {
      "cell_type": "code",
      "source": [],
      "metadata": {
        "id": "WmtdxAvUsXxp"
      },
      "execution_count": null,
      "outputs": []
    },
    {
      "cell_type": "markdown",
      "source": [
        "##Load the DataSet"
      ],
      "metadata": {
        "id": "eCJSj7sBt0LL"
      }
    },
    {
      "cell_type": "code",
      "source": [],
      "metadata": {
        "id": "Nvukl26xt3aN"
      },
      "execution_count": null,
      "outputs": []
    },
    {
      "cell_type": "markdown",
      "source": [
        "##Set Plot Style (Optional)\n",
        "\n"
      ],
      "metadata": {
        "id": "umzMD2p2kPZH"
      }
    },
    {
      "cell_type": "code",
      "source": [],
      "metadata": {
        "id": "_1DWzK3mkewW"
      },
      "execution_count": null,
      "outputs": []
    },
    {
      "cell_type": "markdown",
      "source": [
        "## Basic Data Overview"
      ],
      "metadata": {
        "id": "dYxwk33SkYln"
      }
    },
    {
      "cell_type": "code",
      "source": [],
      "metadata": {
        "id": "650EWCSUkfxY"
      },
      "execution_count": null,
      "outputs": []
    },
    {
      "cell_type": "markdown",
      "source": [
        "# 🎯 **Task 1 : Data Cleaning** 🧹\n",
        "**Description**: Clean and preprocess the dataset by handling missing values, formatting data types, and removing incorrect records.\n",
        "\n",
        "**Requirments**:\n",
        "- Handle missing values in CustomerID\n",
        "- Convert InvoiceDate to DateTime type\n",
        "- Remove rows with negative Quantity or UnitPrice\n",
        "- Create a TotalPrice column\n",
        "\n",
        "\n"
      ],
      "metadata": {
        "id": "Lzg3QUtDuU2u"
      }
    },
    {
      "cell_type": "code",
      "source": [],
      "metadata": {
        "id": "-Ih2ngTqDbLf"
      },
      "execution_count": null,
      "outputs": []
    },
    {
      "cell_type": "markdown",
      "source": [
        "# 🎯 **Task 2 : Exploratory Data Analysis (EDA)** 🔍\n",
        "**Description**: Perform basic descriptive statistics and identify insights from the dataset. Analyze top-selling products and calculate total revenue and transactions.values. You will also check the data types of each column to understand how the data is structured.\n",
        "\n",
        "**Requirments**:\n",
        "-  Use .describe() for statistical summary.\n",
        "- Identify top 10 selling products by Quantity.\n",
        "- Calculate total revenue and number of transactions.\n",
        "\n"
      ],
      "metadata": {
        "id": "fZN0QklDv60n"
      }
    },
    {
      "cell_type": "code",
      "source": [],
      "metadata": {
        "id": "4zyci-SWZxvT"
      },
      "execution_count": null,
      "outputs": []
    },
    {
      "cell_type": "markdown",
      "source": [
        "# 🎯 **Task 3 : Time Series Analysis** 📅📈\n",
        "**Description**: Analyze sales trends over time and visualize monthly sales. Identify months with highest and lowest sales.\n",
        "\n",
        "**Requirments**:\n",
        "-  Resample the data to obtain monthly sales\n",
        "-  Plot monthly sales trends using a line plot.\n",
        "-  Identify the month with the highest and lowest sales.\n"
      ],
      "metadata": {
        "id": "1Dn8TLwv-UDJ"
      }
    },
    {
      "cell_type": "code",
      "source": [],
      "metadata": {
        "id": "JcIkyhOU-k_Q"
      },
      "execution_count": null,
      "outputs": []
    },
    {
      "cell_type": "markdown",
      "source": [
        "# 🎯 **Task 4 : RFM Analysis (Customer Segmentation)** 🧩\n",
        "**Description**: Segment customers based on recency, frequency, and monetary value. Visualize customer distribution in segments.\n",
        "\n",
        "**Requirments**:\n",
        "-  Calculate recency (days since last purchase).\n",
        "-  Calculate frequency (number of purchases).\n",
        "-  Calculate monetary value (total spend).\n",
        "-  Segment customers into High, Medium, Low-value groups.\n",
        "\n"
      ],
      "metadata": {
        "id": "y8SWC4Xc-mM0"
      }
    },
    {
      "cell_type": "code",
      "source": [],
      "metadata": {
        "id": "Ln6cjTTIZyjW"
      },
      "execution_count": null,
      "outputs": []
    },
    {
      "cell_type": "markdown",
      "source": [
        "# 🎯 **Task 5 : Product Category Analysis** 📦💰\n",
        "**Description**: Analyze sales and revenue by product category and visualize the top categories by revenue.\n",
        "\n",
        "**Requirments**:\n",
        "-  Extract product category from Description.\n",
        "-  Calculate sales and revenue by category.\n",
        "-  Create a bar plot of the top 5 categories by revenue.\n",
        "\n"
      ],
      "metadata": {
        "id": "45l4H7GY_O43"
      }
    },
    {
      "cell_type": "code",
      "source": [],
      "metadata": {
        "id": "qZHqFV22ZzHt"
      },
      "execution_count": null,
      "outputs": []
    },
    {
      "cell_type": "markdown",
      "source": [
        "# 🎯 **Task 6 : Geographical Analysis** 🌍📊\n",
        "**Description**: Analyze sales distribution by country and identify top revenue-generating countries.\n",
        "\n",
        "**Requirments**:\n",
        "-  Calculate total revenue by country.\n",
        "-  Create a bar plot of the top 10 countries by revenue.\n",
        "-  Calculate the percentage of sales from the top 3 countries.\n",
        "\n"
      ],
      "metadata": {
        "id": "RPbpzMpA_vWu"
      }
    },
    {
      "cell_type": "code",
      "source": [],
      "metadata": {
        "id": "_UVxLca9Zzog"
      },
      "execution_count": null,
      "outputs": []
    },
    {
      "cell_type": "markdown",
      "source": [
        "# 🎯 **Task 7 : Customer Behavior Analysis** 👤🛒\n",
        "**Description**: Analyze customer behavior based on order quantity, sales, and purchasing patterns.\n",
        "\n",
        "**Requirments**:\n",
        "-  Plot the distribution of order quantities.\n",
        "-  Create a scatter plot of Quantity vs. TotalPrice.\n",
        "-  Calculate and plot average daily sales throughout the week.\n",
        "\n"
      ],
      "metadata": {
        "id": "qKkQQ3qw__EH"
      }
    },
    {
      "cell_type": "code",
      "source": [],
      "metadata": {
        "id": "Gczn1T55Z0M9"
      },
      "execution_count": null,
      "outputs": []
    },
    {
      "cell_type": "markdown",
      "source": [
        "# 🎯 **Task 8 : Moving Average Forecast** 📉🔮\n",
        "**Description**: Implement a basic moving average forecast for sales based on past data.\n",
        "\n",
        "**Requirments**:\n",
        "-  Prepare daily sales data.\n",
        "-  Calculate a 7-day moving average of sales.\n",
        "-  Plot actual sales vs. moving average for the last 3 months.\n"
      ],
      "metadata": {
        "id": "gzp7qq_jAMhw"
      }
    },
    {
      "cell_type": "code",
      "source": [],
      "metadata": {
        "id": "1yhjEZsOAYE3"
      },
      "execution_count": null,
      "outputs": []
    },
    {
      "cell_type": "markdown",
      "source": [
        "# 🎯 **Task 9 : Summary Dashboard Creation** 📊📺\n",
        "**Description**: Create a dashboard that summarizes key insights through visualizations.\n",
        "\n",
        "**Requirments**:\n",
        "\n",
        "Create a 2x2 subplot with:\n",
        "  1.   Monthly sales trend\n",
        "  2.   Top 5 products by revenue\n",
        "  3.   Customer segment distribution\n",
        "  4.   Top 5 countries by revenue.\n",
        "\n",
        "\n"
      ],
      "metadata": {
        "id": "-pwcEt5JAiQw"
      }
    },
    {
      "cell_type": "code",
      "source": [],
      "metadata": {
        "id": "RATay5wNA496"
      },
      "execution_count": null,
      "outputs": []
    },
    {
      "cell_type": "markdown",
      "source": [
        "# 🎯 **Task 10 : Optimize Data Processing** ⚡💻\n",
        "**Description**: Optimize a computationally intensive task using vectorized operations.\n",
        "\n",
        "**Requirments**:\n",
        "-  Implement a task using loops.\n",
        "-  Implement the same task using vectorized operations.\n",
        "-  Compare and report performance differences.\n",
        "\n",
        "\n"
      ],
      "metadata": {
        "id": "N7DfPkcyA58f"
      }
    },
    {
      "cell_type": "code",
      "source": [],
      "metadata": {
        "id": "5UyYOpRzZvB8"
      },
      "execution_count": null,
      "outputs": []
    },
    {
      "cell_type": "markdown",
      "source": [
        "# 🎯 **Task 11 : Report Generation** 📜📋\n",
        "**Description**: Generate a summary report with key insights and recommendations.\n",
        "\n",
        "**Requirments**:\n",
        "-  Summarize overall revenue, top-selling products, best customer segments, and countries.\n",
        "-  Provide insights from time series analysis and recommendations.\n",
        "\n",
        "\n"
      ],
      "metadata": {
        "id": "voGEm4gkBVEh"
      }
    },
    {
      "cell_type": "code",
      "source": [],
      "metadata": {
        "id": "FRk1IzO2Zwd7"
      },
      "execution_count": null,
      "outputs": []
    }
  ]
}